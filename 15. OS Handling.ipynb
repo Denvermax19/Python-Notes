{
 "cells": [
  {
   "cell_type": "code",
   "execution_count": 1,
   "id": "0f1e27e5-6ec7-44af-b826-7e9dc568f14f",
   "metadata": {},
   "outputs": [],
   "source": [
    "import os  # importing the os library"
   ]
  },
  {
   "cell_type": "code",
   "execution_count": 2,
   "id": "793ddd28-8976-4231-a384-1f91f3cd91aa",
   "metadata": {
    "scrolled": true
   },
   "outputs": [
    {
     "data": {
      "text/plain": [
       "['DirEntry',\n",
       " 'EX_OK',\n",
       " 'F_OK',\n",
       " 'GenericAlias',\n",
       " 'Mapping',\n",
       " 'MutableMapping',\n",
       " 'O_APPEND',\n",
       " 'O_BINARY',\n",
       " 'O_CREAT',\n",
       " 'O_EXCL',\n",
       " 'O_NOINHERIT',\n",
       " 'O_RANDOM',\n",
       " 'O_RDONLY',\n",
       " 'O_RDWR',\n",
       " 'O_SEQUENTIAL',\n",
       " 'O_SHORT_LIVED',\n",
       " 'O_TEMPORARY',\n",
       " 'O_TEXT',\n",
       " 'O_TRUNC',\n",
       " 'O_WRONLY',\n",
       " 'P_DETACH',\n",
       " 'P_NOWAIT',\n",
       " 'P_NOWAITO',\n",
       " 'P_OVERLAY',\n",
       " 'P_WAIT',\n",
       " 'PathLike',\n",
       " 'R_OK',\n",
       " 'SEEK_CUR',\n",
       " 'SEEK_END',\n",
       " 'SEEK_SET',\n",
       " 'TMP_MAX',\n",
       " 'W_OK',\n",
       " 'X_OK',\n",
       " '_AddedDllDirectory',\n",
       " '_Environ',\n",
       " '__all__',\n",
       " '__builtins__',\n",
       " '__cached__',\n",
       " '__doc__',\n",
       " '__file__',\n",
       " '__loader__',\n",
       " '__name__',\n",
       " '__package__',\n",
       " '__spec__',\n",
       " '_check_methods',\n",
       " '_execvpe',\n",
       " '_exists',\n",
       " '_exit',\n",
       " '_fspath',\n",
       " '_get_exports_list',\n",
       " '_walk_symlinks_as_files',\n",
       " '_wrap_close',\n",
       " 'abc',\n",
       " 'abort',\n",
       " 'access',\n",
       " 'add_dll_directory',\n",
       " 'altsep',\n",
       " 'chdir',\n",
       " 'chmod',\n",
       " 'close',\n",
       " 'closerange',\n",
       " 'cpu_count',\n",
       " 'curdir',\n",
       " 'defpath',\n",
       " 'device_encoding',\n",
       " 'devnull',\n",
       " 'dup',\n",
       " 'dup2',\n",
       " 'environ',\n",
       " 'error',\n",
       " 'execl',\n",
       " 'execle',\n",
       " 'execlp',\n",
       " 'execlpe',\n",
       " 'execv',\n",
       " 'execve',\n",
       " 'execvp',\n",
       " 'execvpe',\n",
       " 'extsep',\n",
       " 'fchmod',\n",
       " 'fdopen',\n",
       " 'fsdecode',\n",
       " 'fsencode',\n",
       " 'fspath',\n",
       " 'fstat',\n",
       " 'fsync',\n",
       " 'ftruncate',\n",
       " 'get_blocking',\n",
       " 'get_exec_path',\n",
       " 'get_handle_inheritable',\n",
       " 'get_inheritable',\n",
       " 'get_terminal_size',\n",
       " 'getcwd',\n",
       " 'getcwdb',\n",
       " 'getenv',\n",
       " 'getlogin',\n",
       " 'getpid',\n",
       " 'getppid',\n",
       " 'isatty',\n",
       " 'kill',\n",
       " 'lchmod',\n",
       " 'linesep',\n",
       " 'link',\n",
       " 'listdir',\n",
       " 'listdrives',\n",
       " 'listmounts',\n",
       " 'listvolumes',\n",
       " 'lseek',\n",
       " 'lstat',\n",
       " 'makedirs',\n",
       " 'mkdir',\n",
       " 'name',\n",
       " 'open',\n",
       " 'pardir',\n",
       " 'path',\n",
       " 'pathsep',\n",
       " 'pipe',\n",
       " 'popen',\n",
       " 'process_cpu_count',\n",
       " 'putenv',\n",
       " 'read',\n",
       " 'readlink',\n",
       " 'remove',\n",
       " 'removedirs',\n",
       " 'rename',\n",
       " 'renames',\n",
       " 'replace',\n",
       " 'rmdir',\n",
       " 'scandir',\n",
       " 'sep',\n",
       " 'set_blocking',\n",
       " 'set_handle_inheritable',\n",
       " 'set_inheritable',\n",
       " 'spawnl',\n",
       " 'spawnle',\n",
       " 'spawnv',\n",
       " 'spawnve',\n",
       " 'st',\n",
       " 'startfile',\n",
       " 'stat',\n",
       " 'stat_result',\n",
       " 'statvfs_result',\n",
       " 'strerror',\n",
       " 'supports_bytes_environ',\n",
       " 'supports_dir_fd',\n",
       " 'supports_effective_ids',\n",
       " 'supports_fd',\n",
       " 'supports_follow_symlinks',\n",
       " 'symlink',\n",
       " 'sys',\n",
       " 'system',\n",
       " 'terminal_size',\n",
       " 'times',\n",
       " 'times_result',\n",
       " 'truncate',\n",
       " 'umask',\n",
       " 'uname_result',\n",
       " 'unlink',\n",
       " 'unsetenv',\n",
       " 'urandom',\n",
       " 'utime',\n",
       " 'waitpid',\n",
       " 'waitstatus_to_exitcode',\n",
       " 'walk',\n",
       " 'write']"
      ]
     },
     "execution_count": 2,
     "metadata": {},
     "output_type": "execute_result"
    }
   ],
   "source": [
    "dir(os)  # finding the available modules in \"OS\""
   ]
  },
  {
   "cell_type": "code",
   "execution_count": 3,
   "id": "de0c569e-435f-4444-bb90-30b1c1ec1dd1",
   "metadata": {},
   "outputs": [
    {
     "data": {
      "text/plain": [
       "'C:\\\\Users\\\\lette\\\\Python Practise\\\\Python Chapters\\\\Anand practise'"
      ]
     },
     "execution_count": 3,
     "metadata": {},
     "output_type": "execute_result"
    }
   ],
   "source": [
    "os.getcwd()  # finding current file location"
   ]
  },
  {
   "cell_type": "code",
   "execution_count": 4,
   "id": "aa0da807-bb5a-402d-8603-1c6b50df6932",
   "metadata": {},
   "outputs": [],
   "source": [
    "os.chdir(\"D:\\Anand\\Python\")"
   ]
  },
  {
   "cell_type": "code",
   "execution_count": 5,
   "id": "f34b92fc-ad31-4d7c-8746-e3672067abfa",
   "metadata": {},
   "outputs": [
    {
     "data": {
      "text/plain": [
       "'D:\\\\Anand\\\\Python'"
      ]
     },
     "execution_count": 5,
     "metadata": {},
     "output_type": "execute_result"
    }
   ],
   "source": [
    "os.getcwd() # chaning the directory"
   ]
  },
  {
   "cell_type": "code",
   "execution_count": 8,
   "id": "1d9c5408-879b-48d5-b29f-efd8f442d86a",
   "metadata": {},
   "outputs": [],
   "source": [
    "os.mkdir(\"python cource1\")  # for creating the folder"
   ]
  },
  {
   "cell_type": "code",
   "execution_count": 7,
   "id": "f76e8f1f-53d8-42b3-9447-c21689f88c49",
   "metadata": {},
   "outputs": [
    {
     "ename": "FileNotFoundError",
     "evalue": "[WinError 3] The system cannot find the path specified: 'data analysis/data pre-processing/'",
     "output_type": "error",
     "traceback": [
      "\u001b[1;31m---------------------------------------------------------------------------\u001b[0m",
      "\u001b[1;31mFileNotFoundError\u001b[0m                         Traceback (most recent call last)",
      "Cell \u001b[1;32mIn[7], line 1\u001b[0m\n\u001b[1;32m----> 1\u001b[0m os\u001b[38;5;241m.\u001b[39mmkdir(\u001b[38;5;124m\"\u001b[39m\u001b[38;5;124mdata analysis/data pre-processing/\u001b[39m\u001b[38;5;124m\"\u001b[39m)\n",
      "\u001b[1;31mFileNotFoundError\u001b[0m: [WinError 3] The system cannot find the path specified: 'data analysis/data pre-processing/'"
     ]
    }
   ],
   "source": [
    "os.mkdir(\"data analysis/data pre-processing/\")  \n",
    "# we got error, becoz \"mkdir\" cannot create folder inside a folder."
   ]
  },
  {
   "cell_type": "code",
   "execution_count": 9,
   "id": "1920e7bc-c531-46dc-a59c-7226373d81f1",
   "metadata": {},
   "outputs": [],
   "source": [
    "os.makedirs(\"data analysis/data pre-processing\")  \n",
    "# now we can create folder inside a folder"
   ]
  },
  {
   "cell_type": "code",
   "execution_count": 10,
   "id": "a138d268-b187-4328-8087-a90bb57fd8e7",
   "metadata": {},
   "outputs": [
    {
     "ename": "FileNotFoundError",
     "evalue": "[WinError 2] The system cannot find the file specified: 'new python/'",
     "output_type": "error",
     "traceback": [
      "\u001b[1;31m---------------------------------------------------------------------------\u001b[0m",
      "\u001b[1;31mFileNotFoundError\u001b[0m                         Traceback (most recent call last)",
      "Cell \u001b[1;32mIn[10], line 1\u001b[0m\n\u001b[1;32m----> 1\u001b[0m os\u001b[38;5;241m.\u001b[39mrmdir(\u001b[38;5;124m\"\u001b[39m\u001b[38;5;124mnew python/\u001b[39m\u001b[38;5;124m\"\u001b[39m)\n",
      "\u001b[1;31mFileNotFoundError\u001b[0m: [WinError 2] The system cannot find the file specified: 'new python/'"
     ]
    }
   ],
   "source": [
    "os.rmdir(\"new python/\")  # deletes specified directory\n",
    "\n",
    "# we got error becuase iam trying run the code multiple times, (\"new python\") already deleted"
   ]
  },
  {
   "cell_type": "code",
   "execution_count": 12,
   "id": "e31eb035-308f-4ac6-9831-d847935a1029",
   "metadata": {},
   "outputs": [],
   "source": [
    "os.rename(\"data analysis/\", \"Data AnalyticsX\")  # renaming the folder"
   ]
  },
  {
   "cell_type": "code",
   "execution_count": 13,
   "id": "1b226068-bb58-4c27-8225-86566e3c2dff",
   "metadata": {},
   "outputs": [
    {
     "data": {
      "text/plain": [
       "'C:\\\\Users\\\\lette\\\\Python Practise\\\\Python Chapters\\\\Anand practise\\\\Data Analytics'"
      ]
     },
     "execution_count": 13,
     "metadata": {},
     "output_type": "execute_result"
    }
   ],
   "source": [
    "os.path.join(\"C:\\\\Users\\\\lette\\\\Python Practise\\\\Python Chapters\\\\Anand practise\", \"Data Analytics\")\n",
    "# for joining the folders"
   ]
  },
  {
   "cell_type": "code",
   "execution_count": 14,
   "id": "3fe0e057-52a5-4676-a8d0-701b6392e744",
   "metadata": {},
   "outputs": [
    {
     "data": {
      "text/plain": [
       "12"
      ]
     },
     "execution_count": 14,
     "metadata": {},
     "output_type": "execute_result"
    }
   ],
   "source": [
    "os.cpu_count()  # to know number of CPU available"
   ]
  },
  {
   "cell_type": "markdown",
   "id": "053c8102-ded0-4b1d-9c74-f9b478f23128",
   "metadata": {},
   "source": [
    "### Pickle\n",
    "For preserving the data for future purposes."
   ]
  },
  {
   "cell_type": "code",
   "execution_count": 15,
   "id": "917a8caf-3d16-4c65-ac6f-a79c6bfb266b",
   "metadata": {},
   "outputs": [],
   "source": [
    "df={\"Name\":[\"anand\",\"kiran\",\"sai\"], \"Age\":[23,25,24]}"
   ]
  },
  {
   "cell_type": "code",
   "execution_count": 16,
   "id": "4a6d403b-93a4-4a47-a739-c296206b944f",
   "metadata": {},
   "outputs": [
    {
     "data": {
      "text/html": [
       "<div>\n",
       "<style scoped>\n",
       "    .dataframe tbody tr th:only-of-type {\n",
       "        vertical-align: middle;\n",
       "    }\n",
       "\n",
       "    .dataframe tbody tr th {\n",
       "        vertical-align: top;\n",
       "    }\n",
       "\n",
       "    .dataframe thead th {\n",
       "        text-align: right;\n",
       "    }\n",
       "</style>\n",
       "<table border=\"1\" class=\"dataframe\">\n",
       "  <thead>\n",
       "    <tr style=\"text-align: right;\">\n",
       "      <th></th>\n",
       "      <th>Name</th>\n",
       "      <th>Age</th>\n",
       "    </tr>\n",
       "  </thead>\n",
       "  <tbody>\n",
       "    <tr>\n",
       "      <th>0</th>\n",
       "      <td>anand</td>\n",
       "      <td>23</td>\n",
       "    </tr>\n",
       "    <tr>\n",
       "      <th>1</th>\n",
       "      <td>kiran</td>\n",
       "      <td>25</td>\n",
       "    </tr>\n",
       "    <tr>\n",
       "      <th>2</th>\n",
       "      <td>sai</td>\n",
       "      <td>24</td>\n",
       "    </tr>\n",
       "  </tbody>\n",
       "</table>\n",
       "</div>"
      ],
      "text/plain": [
       "    Name  Age\n",
       "0  anand   23\n",
       "1  kiran   25\n",
       "2    sai   24"
      ]
     },
     "execution_count": 16,
     "metadata": {},
     "output_type": "execute_result"
    }
   ],
   "source": [
    "import pandas as pd\n",
    "pd.DataFrame(df)     # this is the data we wants to store for future use"
   ]
  },
  {
   "cell_type": "code",
   "execution_count": 17,
   "id": "3f6bb5f3-9f46-4bd5-a338-1ac14c821648",
   "metadata": {},
   "outputs": [],
   "source": [
    "import pickle\n",
    "pk=open(file=\"our age.pkl\", mode=\"wb\") # wb --> write in binary for preserving the data\n",
    "pickle.dump(df, pk)\n",
    "pk.close()\n",
    "# df --> is what we needs to store\n",
    "# pk --> is the place we decided to store"
   ]
  },
  {
   "cell_type": "markdown",
   "id": "92b04bfd-1eb4-4921-8209-110d2ed6df40",
   "metadata": {},
   "source": [
    "#### Pickle has 2 file extensions, \n",
    "1--> .pkl , 2--> .sav"
   ]
  },
  {
   "cell_type": "code",
   "execution_count": 18,
   "id": "7498c097-b623-4292-97b0-83d2a2cb3d2b",
   "metadata": {},
   "outputs": [],
   "source": [
    "sv=open(file=\"our age.sav\", mode=\"wb\")\n",
    "pickle.dump(df,sv)\n",
    "sv.close()"
   ]
  },
  {
   "cell_type": "markdown",
   "id": "b9ea7e9d-2bbb-4ce0-89c4-66e2abb501aa",
   "metadata": {},
   "source": [
    "## JSON"
   ]
  },
  {
   "cell_type": "code",
   "execution_count": 19,
   "id": "e8e3f86c-9aa3-4cb2-ba3a-dd76969b9f94",
   "metadata": {},
   "outputs": [],
   "source": [
    "person_details={\"Name\":\"Anand\",\"Languages\":[\"HTML\",\"CSS\",\"JavaScript\",\"PYTHON\"],\"Married\":True,\"Age\":23}"
   ]
  },
  {
   "cell_type": "code",
   "execution_count": 20,
   "id": "cd6244a4-1eae-44bb-8f8a-76e0d6e833a4",
   "metadata": {},
   "outputs": [],
   "source": [
    "import json\n",
    "jk=open(file=\"details.json\", mode=\"w\")\n",
    "json.dump(person_details,jk)\n",
    "jk.close()     # JSON formate used for storing un-structured data, its widely used in AI & ML"
   ]
  },
  {
   "cell_type": "markdown",
   "id": "cc744ad0-174f-4ab0-8f03-6e19100ca7ec",
   "metadata": {},
   "source": [
    "## CSV"
   ]
  },
  {
   "cell_type": "code",
   "execution_count": 40,
   "id": "1f11e35a-894f-436a-a674-c3f6882f52b0",
   "metadata": {},
   "outputs": [],
   "source": [
    "import csv\n",
    "field=[\"name\",\"marks\"]\n",
    "row=[{\"name\":\"sai\",\"marks\":34},\n",
    "     {\"name\":\"anand\",\"marks\":39}]\n",
    "cv_data=open(file=\"students.csv\", mode=\"w\", newline='') # [newline=''] makes data without blank lines\n",
    "data=csv.DictWriter(cv_data,fieldnames=field)\n",
    "data.writeheader()\n",
    "data.writerows(row)\n",
    "cv_data.close()"
   ]
  },
  {
   "cell_type": "code",
   "execution_count": 39,
   "id": "5f16afbe-4fd8-4611-bdf1-53dea43212ca",
   "metadata": {},
   "outputs": [
    {
     "data": {
      "text/plain": [
       "[{'name': 'sai', 'marks': 34}, {'name': 'anand', 'marks': 39}]"
      ]
     },
     "execution_count": 39,
     "metadata": {},
     "output_type": "execute_result"
    }
   ],
   "source": [
    "row"
   ]
  },
  {
   "cell_type": "markdown",
   "id": "9e6b31eb-5233-41ca-8e2a-598063dae95e",
   "metadata": {},
   "source": [
    "## Pandas"
   ]
  },
  {
   "cell_type": "code",
   "execution_count": 42,
   "id": "7cb4f5f4-d967-47ee-81f6-a7f2ebff5698",
   "metadata": {},
   "outputs": [],
   "source": [
    "names=[\"kgf2\",\"bhahubali2\",\"pushpa2\"]\n",
    "directors=[\"neil maya\",\"jakkanna\",\"sukku\"]\n",
    "money=[100,200,150]\n",
    "movies={\"Name\":names,\"Director\":directors,\"Collections\":money}"
   ]
  },
  {
   "cell_type": "code",
   "execution_count": 44,
   "id": "4a7f7fb6-ba65-4167-af42-22ae7f42582c",
   "metadata": {},
   "outputs": [
    {
     "data": {
      "text/html": [
       "<div>\n",
       "<style scoped>\n",
       "    .dataframe tbody tr th:only-of-type {\n",
       "        vertical-align: middle;\n",
       "    }\n",
       "\n",
       "    .dataframe tbody tr th {\n",
       "        vertical-align: top;\n",
       "    }\n",
       "\n",
       "    .dataframe thead th {\n",
       "        text-align: right;\n",
       "    }\n",
       "</style>\n",
       "<table border=\"1\" class=\"dataframe\">\n",
       "  <thead>\n",
       "    <tr style=\"text-align: right;\">\n",
       "      <th></th>\n",
       "      <th>Name</th>\n",
       "      <th>Director</th>\n",
       "      <th>Collections</th>\n",
       "    </tr>\n",
       "  </thead>\n",
       "  <tbody>\n",
       "    <tr>\n",
       "      <th>0</th>\n",
       "      <td>kgf2</td>\n",
       "      <td>neil maya</td>\n",
       "      <td>100</td>\n",
       "    </tr>\n",
       "    <tr>\n",
       "      <th>1</th>\n",
       "      <td>bhahubali2</td>\n",
       "      <td>jakkanna</td>\n",
       "      <td>200</td>\n",
       "    </tr>\n",
       "    <tr>\n",
       "      <th>2</th>\n",
       "      <td>pushpa2</td>\n",
       "      <td>sukku</td>\n",
       "      <td>150</td>\n",
       "    </tr>\n",
       "  </tbody>\n",
       "</table>\n",
       "</div>"
      ],
      "text/plain": [
       "         Name   Director  Collections\n",
       "0        kgf2  neil maya          100\n",
       "1  bhahubali2   jakkanna          200\n",
       "2     pushpa2      sukku          150"
      ]
     },
     "execution_count": 44,
     "metadata": {},
     "output_type": "execute_result"
    }
   ],
   "source": [
    "import pandas as pd\n",
    "df=pd.DataFrame(movies)\n",
    "df"
   ]
  },
  {
   "cell_type": "raw",
   "id": "5872939d-fa8b-4cac-a078-828cf60b582e",
   "metadata": {},
   "source": [
    "## Using PANDAS we can easily convert dataset into any fomate easily"
   ]
  },
  {
   "cell_type": "code",
   "execution_count": 45,
   "id": "54cf6a10-2dbc-427b-a6f2-291a3318f473",
   "metadata": {},
   "outputs": [],
   "source": [
    "df.to_csv(\"movies.csv\")"
   ]
  },
  {
   "cell_type": "code",
   "execution_count": 46,
   "id": "a76361b7-ca75-4c7f-b30a-caeb4089a39b",
   "metadata": {},
   "outputs": [],
   "source": [
    "df.to_excel(\"moviesX.xlsx\")"
   ]
  },
  {
   "cell_type": "code",
   "execution_count": 47,
   "id": "22dc1ba7-ff5a-4cbc-a19f-bdf3986dd46d",
   "metadata": {},
   "outputs": [],
   "source": [
    "df.to_html(\"movies.html\")"
   ]
  },
  {
   "cell_type": "code",
   "execution_count": 49,
   "id": "9a655583-d183-4500-ac08-6a43dcbdd4b5",
   "metadata": {},
   "outputs": [],
   "source": [
    "df.to_json(\"movies.json\")"
   ]
  },
  {
   "cell_type": "raw",
   "id": "0bf6207f-6aa6-461a-9f9c-4829158e12ec",
   "metadata": {},
   "source": [
    "#### Reading csv file with the help of \"for\" loop"
   ]
  },
  {
   "cell_type": "code",
   "execution_count": 54,
   "id": "54e46466-7fcd-4748-ac82-53be5c65b8ec",
   "metadata": {},
   "outputs": [
    {
     "name": "stdout",
     "output_type": "stream",
     "text": [
      "['', 'Name', 'Director', 'Collections']\n",
      "['0', 'kgf2', 'neil maya', '100']\n",
      "['1', 'bhahubali2', 'jakkanna', '200']\n",
      "['2', 'pushpa2', 'sukku', '150']\n"
     ]
    }
   ],
   "source": [
    "import csv\n",
    "r1=open(file=\"movies.csv\", mode=\"r\")\n",
    "reader=csv.reader(r1)\n",
    "for i in reader:\n",
    "    print(i)"
   ]
  },
  {
   "cell_type": "code",
   "execution_count": null,
   "id": "9cd6c6c1-369d-4f0c-a46f-0e71229290c7",
   "metadata": {},
   "outputs": [],
   "source": []
  }
 ],
 "metadata": {
  "kernelspec": {
   "display_name": "Python [conda env:base] *",
   "language": "python",
   "name": "conda-base-py"
  },
  "language_info": {
   "codemirror_mode": {
    "name": "ipython",
    "version": 3
   },
   "file_extension": ".py",
   "mimetype": "text/x-python",
   "name": "python",
   "nbconvert_exporter": "python",
   "pygments_lexer": "ipython3",
   "version": "3.13.5"
  },
  "widgets": {
   "application/vnd.jupyter.widget-state+json": {
    "state": {},
    "version_major": 2,
    "version_minor": 0
   }
  }
 },
 "nbformat": 4,
 "nbformat_minor": 5
}
