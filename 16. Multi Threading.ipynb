{
 "cells": [
  {
   "cell_type": "code",
   "execution_count": 1,
   "id": "243023c1-c36a-4029-9378-e84cb3a3bbb0",
   "metadata": {},
   "outputs": [],
   "source": [
    "# run() entry point for a thread\n",
    "# start() it starts a thread by calling the run class method\n",
    "# join([time]) it waits for threads to terminate\n",
    "# isAlive() it checks wheather a thread is still executing\n",
    "# getName() returns the name of a thread"
   ]
  },
  {
   "cell_type": "raw",
   "id": "17cef5b2-5b99-49e1-96e9-147086c501df",
   "metadata": {},
   "source": [
    "we have to read database, and read pdf all at same time. It's multi tasking\n",
    "we need to save time by using \"Multi-threading\""
   ]
  },
  {
   "cell_type": "markdown",
   "id": "b01ff250-1817-4842-a1ff-5b19ccca5381",
   "metadata": {},
   "source": [
    "## Without Class"
   ]
  },
  {
   "cell_type": "markdown",
   "id": "7d6dc02a-ac79-458b-acd3-b9d980175eb6",
   "metadata": {},
   "source": [
    "### Normal processing"
   ]
  },
  {
   "cell_type": "code",
   "execution_count": 2,
   "id": "89a8a348-5a4f-49d3-8bf7-7adcbb88b9ff",
   "metadata": {},
   "outputs": [
    {
     "name": "stdout",
     "output_type": "stream",
     "text": [
      "reading the database: 1\n",
      "reading the database: 2\n",
      "reading the database: 3\n",
      "reading the database: 4\n",
      "reading the database: 5\n",
      "reading the database: 6\n",
      "reading the database: 7\n",
      "reading the database: 8\n",
      "reading the database: 9\n",
      "reading the database: 10\n",
      "reading the pdf: 1\n",
      "reading the pdf: 2\n",
      "reading the pdf: 3\n",
      "reading the pdf: 4\n",
      "reading the pdf: 5\n",
      "reading the pdf: 6\n",
      "reading the pdf: 7\n",
      "reading the pdf: 8\n",
      "reading the pdf: 9\n",
      "reading the pdf: 10\n",
      "9.016610383987427\n"
     ]
    }
   ],
   "source": [
    "import time\n",
    "start_time=time.time()  # declaring the initial time\n",
    "\n",
    "def files():\n",
    "    for i in range(10):\n",
    "        time.sleep(0.5) # sleep time is o.5 seconds for each file in database\n",
    "        print(f\"reading the database: {i+1}\")\n",
    "\n",
    "def pdfs():\n",
    "    for p in range(10):\n",
    "        time.sleep(0.4) # sleep time is o.4 seconds for each pdf\n",
    "        print(f\"reading the pdf: {p+1}\")\n",
    "\n",
    "files()\n",
    "pdfs()\n",
    "process_time=time.time()\n",
    "print(process_time-start_time) # we are calculating total processing time \n",
    "\n",
    "# it took, more than 9 seconds, we need to reduce it, using multi-threading"
   ]
  },
  {
   "cell_type": "markdown",
   "id": "5c20edd5-05f4-4afc-a136-4aed3ac8f30f",
   "metadata": {},
   "source": [
    "### Processing Using Multi-Threading"
   ]
  },
  {
   "cell_type": "code",
   "execution_count": 4,
   "id": "0083b46f-88bb-48e7-a4d0-31f1d58005f6",
   "metadata": {},
   "outputs": [
    {
     "name": "stdout",
     "output_type": "stream",
     "text": [
      "reading the pdf: 1\n",
      "reading the database: 1\n",
      "reading the pdf: 2\n",
      "reading the database: 2\n",
      "reading the pdf: 3\n",
      "reading the database: 3\n",
      "reading the pdf: 4\n",
      "reading the database: 4\n",
      "reading the pdf: 5\n",
      "reading the pdf: 6\n",
      "reading the database: 5\n",
      "reading the pdf: 7\n",
      "reading the database: 6\n",
      "reading the pdf: 8\n",
      "reading the database: 7\n",
      "reading the pdf: 9\n",
      "reading the database: 8\n",
      "reading the pdf: 10\n",
      "reading the database: 9\n",
      "reading the database: 10\n",
      "5.0078346729278564\n"
     ]
    }
   ],
   "source": [
    "import time\n",
    "from threading import Thread\n",
    "\n",
    "start_time=time.time()  # declaring the initial time\n",
    "\n",
    "def files():\n",
    "    for i in range(10):\n",
    "        time.sleep(0.5) \n",
    "        print(f\"reading the database: {i+1}\")\n",
    "\n",
    "def pdfs():\n",
    "    for p in range(10):\n",
    "        time.sleep(0.4) \n",
    "        print(f\"reading the pdf: {p+1}\")\n",
    "\n",
    "t1=Thread(target=files) # we're assigning files reading task to separate thread\n",
    "t2=Thread(target=pdfs) # we're assigning pdfs reading task to separate thread\n",
    "\n",
    "t1.start() # starting the thread\n",
    "t2.start()\n",
    "\n",
    "t1.join()\n",
    "t2.join()\n",
    "\n",
    "process_time=time.time()\n",
    "print(process_time-start_time) # it took 5 seconds, we saved 4 seconds"
   ]
  },
  {
   "cell_type": "markdown",
   "id": "e9761fd0-bd86-4b15-b1b2-8ce5400a4e3f",
   "metadata": {},
   "source": [
    "## With Class"
   ]
  },
  {
   "cell_type": "code",
   "execution_count": 10,
   "id": "8332a3fd-8b23-481d-9be9-98795fced625",
   "metadata": {},
   "outputs": [],
   "source": [
    "import time\n",
    "from threading import Thread"
   ]
  },
  {
   "cell_type": "code",
   "execution_count": 24,
   "id": "0d455c4b-e31f-49df-919b-6e9f9174bfab",
   "metadata": {},
   "outputs": [
    {
     "name": "stdout",
     "output_type": "stream",
     "text": [
      "processing time:  0.0015368461608886719\n"
     ]
    }
   ],
   "source": [
    "start_timex=time.time()\n",
    "\n",
    "class database(Thread):\n",
    "    def files(self):\n",
    "        for i in range(10):\n",
    "            time.sleep(0.5)\n",
    "            print(\"reading database\")\n",
    "\n",
    "class pdf(Thread):\n",
    "    def pdfs(self):\n",
    "        for i in range(10):\n",
    "            time.sleep(0.4)\n",
    "            print(\"reading pdf\")\n",
    "\n",
    "t1=read_database()\n",
    "t2=read_pdf()\n",
    "\n",
    "t1.start()\n",
    "t2.start()\n",
    "\n",
    "t1.join()\n",
    "t2.join()\n",
    "\n",
    "end_timex=time.time()\n",
    "print(\"processing time: \", end_timex-start_timex)"
   ]
  },
  {
   "cell_type": "code",
   "execution_count": null,
   "id": "285a4a45-cb0f-4097-8e78-988b115f19b1",
   "metadata": {},
   "outputs": [],
   "source": []
  }
 ],
 "metadata": {
  "kernelspec": {
   "display_name": "Python [conda env:base] *",
   "language": "python",
   "name": "conda-base-py"
  },
  "language_info": {
   "codemirror_mode": {
    "name": "ipython",
    "version": 3
   },
   "file_extension": ".py",
   "mimetype": "text/x-python",
   "name": "python",
   "nbconvert_exporter": "python",
   "pygments_lexer": "ipython3",
   "version": "3.13.5"
  },
  "widgets": {
   "application/vnd.jupyter.widget-state+json": {
    "state": {},
    "version_major": 2,
    "version_minor": 0
   }
  }
 },
 "nbformat": 4,
 "nbformat_minor": 5
}
