{
 "cells": [
  {
   "cell_type": "code",
   "execution_count": 4,
   "id": "750f5c9a-e5e5-4146-b7a2-810bb31484a7",
   "metadata": {},
   "outputs": [
    {
     "name": "stdin",
     "output_type": "stream",
     "text": [
      "username sai\n",
      "password daghdaghd\n"
     ]
    },
    {
     "name": "stdout",
     "output_type": "stream",
     "text": [
      "password is wrong, plz re-enter\n"
     ]
    },
    {
     "name": "stdin",
     "output_type": "stream",
     "text": [
      "password sdajhsahd\n"
     ]
    },
    {
     "name": "stdout",
     "output_type": "stream",
     "text": [
      "password is wrong, plz re-enter\n"
     ]
    },
    {
     "name": "stdin",
     "output_type": "stream",
     "text": [
      "password kiran\n"
     ]
    },
    {
     "name": "stdout",
     "output_type": "stream",
     "text": [
      "log in success\n"
     ]
    }
   ],
   "source": [
    "username=\"sai\"\n",
    "password=\"kiran\"\n",
    "while True:\n",
    "    username_input=input(\"username\")\n",
    "    if username_input==username:\n",
    "        while True:\n",
    "            password_input=input(\"password\")\n",
    "            if password_input==password:\n",
    "                print(\"log in success\")\n",
    "                break\n",
    "            else:\n",
    "                print(\"password is wrong, plz re-enter\")\n",
    "        break\n",
    "    else:\n",
    "        print(\"username is wrong, plz re-enter\")"
   ]
  },
  {
   "cell_type": "code",
   "execution_count": null,
   "id": "01ec614b-1196-4679-92d8-a216e65a19a2",
   "metadata": {},
   "outputs": [],
   "source": []
  }
 ],
 "metadata": {
  "kernelspec": {
   "display_name": "Python [conda env:base] *",
   "language": "python",
   "name": "conda-base-py"
  },
  "language_info": {
   "codemirror_mode": {
    "name": "ipython",
    "version": 3
   },
   "file_extension": ".py",
   "mimetype": "text/x-python",
   "name": "python",
   "nbconvert_exporter": "python",
   "pygments_lexer": "ipython3",
   "version": "3.13.5"
  },
  "widgets": {
   "application/vnd.jupyter.widget-state+json": {
    "state": {},
    "version_major": 2,
    "version_minor": 0
   }
  }
 },
 "nbformat": 4,
 "nbformat_minor": 5
}
