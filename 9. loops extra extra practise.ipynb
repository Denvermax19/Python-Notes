{
 "cells": [
  {
   "cell_type": "code",
   "execution_count": 2,
   "id": "27bea225-d677-4e3a-9ef1-dcb8d4a70f4d",
   "metadata": {},
   "outputs": [
    {
     "name": "stdin",
     "output_type": "stream",
     "text": [
      "username:  ananss\n"
     ]
    },
    {
     "name": "stdout",
     "output_type": "stream",
     "text": [
      "username is wrong, plz re-enter\n"
     ]
    },
    {
     "name": "stdin",
     "output_type": "stream",
     "text": [
      "username:  anand\n",
      "password:  loio\n"
     ]
    },
    {
     "name": "stdout",
     "output_type": "stream",
     "text": [
      "plz check the password\n"
     ]
    },
    {
     "name": "stdin",
     "output_type": "stream",
     "text": [
      "password:  lenin\n"
     ]
    },
    {
     "name": "stdout",
     "output_type": "stream",
     "text": [
      "log in success\n"
     ]
    }
   ],
   "source": [
    "username=\"anand\"\n",
    "password=\"lenin\"\n",
    "while True:\n",
    "    username_input=input(\"username: \")\n",
    "    if username_input==username:\n",
    "        while True:\n",
    "            password_input=input(\"password: \")\n",
    "            if password_input==password:\n",
    "                print(\"log in success\")\n",
    "                break\n",
    "            else:\n",
    "                print(\"plz check the password\")\n",
    "        break\n",
    "    else:\n",
    "        print(\"username is wrong, plz re-enter\")"
   ]
  },
  {
   "cell_type": "code",
   "execution_count": null,
   "id": "e6ce81ff-4600-4748-86d7-a035b116a378",
   "metadata": {},
   "outputs": [
    {
     "name": "stdin",
     "output_type": "stream",
     "text": [
      "username:  leninww\n"
     ]
    },
    {
     "name": "stdout",
     "output_type": "stream",
     "text": [
      "user is wrong, plz re-enter\n"
     ]
    }
   ],
   "source": [
    "user=\"lenin\"\n",
    "passcode=\"nazi\"\n",
    "while True:\n",
    "    user_fill=input(\"username: \")\n",
    "    if user_fill==user:\n",
    "        while True:\n",
    "            passcode_fill=input(\"password: \")\n",
    "            if passcode_fill==passcode:\n",
    "                print(\"log in success\")\n",
    "                break\n",
    "            else:\n",
    "                print(\"passcode is wrong, plz re-enter\")\n",
    "        break\n",
    "    else:\n",
    "        print(\"user is wrong, plz re-enter\")"
   ]
  },
  {
   "cell_type": "code",
   "execution_count": null,
   "id": "cc29bc81-d204-4b1c-9c4d-a94f4b669108",
   "metadata": {},
   "outputs": [],
   "source": []
  }
 ],
 "metadata": {
  "kernelspec": {
   "display_name": "Python [conda env:base] *",
   "language": "python",
   "name": "conda-base-py"
  },
  "language_info": {
   "codemirror_mode": {
    "name": "ipython",
    "version": 3
   },
   "file_extension": ".py",
   "mimetype": "text/x-python",
   "name": "python",
   "nbconvert_exporter": "python",
   "pygments_lexer": "ipython3",
   "version": "3.13.5"
  },
  "widgets": {
   "application/vnd.jupyter.widget-state+json": {
    "state": {},
    "version_major": 2,
    "version_minor": 0
   }
  }
 },
 "nbformat": 4,
 "nbformat_minor": 5
}
