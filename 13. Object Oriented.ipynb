{
 "cells": [
  {
   "cell_type": "code",
   "execution_count": 1,
   "id": "25e63e44-d2ba-445e-affb-65c060057d0d",
   "metadata": {},
   "outputs": [
    {
     "name": "stdout",
     "output_type": "stream",
     "text": [
      "it has 4 seats\n",
      "its 10k hp engine\n",
      "it is a premium model\n"
     ]
    }
   ],
   "source": [
    "class cars:   # class setting\n",
    "    def model(self):\n",
    "        print(\"it is a premium model\")\n",
    "    def engine(self):\n",
    "        print(\"its 10k hp engine\")\n",
    "    def doors(self):\n",
    "        print(\"it has 4 seats\")\n",
    "\n",
    "bmw=cars()    # class calling\n",
    "bmw.doors()\n",
    "bmw.engine()\n",
    "bmw.model()"
   ]
  },
  {
   "cell_type": "markdown",
   "id": "ac40e16f-6db6-421f-a813-6c902240b72c",
   "metadata": {},
   "source": [
    "## Inheritence"
   ]
  },
  {
   "cell_type": "markdown",
   "id": "2c7ac8bc-e867-4a4a-aa57-6cd2bc3491e8",
   "metadata": {},
   "source": [
    "### Single Inheritence"
   ]
  },
  {
   "cell_type": "code",
   "execution_count": 2,
   "id": "a3ef3780-2da0-4c2e-8687-c2ff4ba1440b",
   "metadata": {},
   "outputs": [
    {
     "name": "stdout",
     "output_type": "stream",
     "text": [
      "i have BIKE\n",
      "I have a Car\n"
     ]
    }
   ],
   "source": [
    "class father:\n",
    "    def car(self):\n",
    "        print(\"I have a Car\")\n",
    "\n",
    "class son(father):  # \"son\" class inherited properties from \"father\" class\n",
    "    def bike(self):\n",
    "        print(\"i have BIKE\")\n",
    "\n",
    "ravi=son()\n",
    "ravi.bike()  # we are calling property inside its own class\n",
    "ravi.car()   # we are calling property outside its class"
   ]
  },
  {
   "cell_type": "markdown",
   "id": "c0285d7c-74b1-4704-9779-1f956afa1b42",
   "metadata": {},
   "source": [
    "### Hybrid Inheritence"
   ]
  },
  {
   "cell_type": "code",
   "execution_count": 4,
   "id": "5b02b0ab-b289-4482-8ff3-720c3963aecf",
   "metadata": {},
   "outputs": [
    {
     "name": "stdout",
     "output_type": "stream",
     "text": [
      "i have scooty\n",
      "I have a Car\n",
      "i have BIKE\n",
      "we have HOME\n"
     ]
    }
   ],
   "source": [
    "class wealth:\n",
    "    def house(self):\n",
    "        print(\"we have HOME\")\n",
    "\n",
    "class father(wealth):  # \"father\" class inherited properties from \"wealth\" class\n",
    "    def car(self):\n",
    "        print(\"I have a Car\")\n",
    "\n",
    "class mother(wealth):    # \"mmother\" class inherited properties from \"wwealth\" class\n",
    "    def scooty(self):\n",
    "        print(\"i have scooty\")\n",
    "\n",
    "class son(father,mother,wealth):  # \"son\" class inherited properties from \"father\" class\n",
    "    def bike(self):\n",
    "        print(\"i have BIKE\")\n",
    "\n",
    "ravi=son()\n",
    "ravi.scooty()\n",
    "ravi.car()\n",
    "ravi.bike()\n",
    "ravi.house()"
   ]
  },
  {
   "cell_type": "markdown",
   "id": "bcb11068-606a-42e4-b236-c002067df391",
   "metadata": {},
   "source": [
    "## Polymorphism\n",
    "same Function being used for different types"
   ]
  },
  {
   "cell_type": "code",
   "execution_count": null,
   "id": "a98f6b2f-403b-4a4f-97f8-26fb13171f2f",
   "metadata": {},
   "outputs": [],
   "source": []
  },
  {
   "cell_type": "code",
   "execution_count": null,
   "id": "3a06e32d-a28a-43b1-ad63-dd4e5480a453",
   "metadata": {},
   "outputs": [],
   "source": []
  },
  {
   "cell_type": "code",
   "execution_count": null,
   "id": "faa804be-c8b9-4cce-aa0d-75b8df847bed",
   "metadata": {},
   "outputs": [],
   "source": []
  },
  {
   "cell_type": "code",
   "execution_count": null,
   "id": "d2251168-f84a-484c-94a5-95c7d5848c67",
   "metadata": {},
   "outputs": [],
   "source": []
  },
  {
   "cell_type": "code",
   "execution_count": null,
   "id": "ebbc526d-2d2e-4d2b-ac98-9db491995328",
   "metadata": {},
   "outputs": [],
   "source": []
  }
 ],
 "metadata": {
  "kernelspec": {
   "display_name": "Python [conda env:base] *",
   "language": "python",
   "name": "conda-base-py"
  },
  "language_info": {
   "codemirror_mode": {
    "name": "ipython",
    "version": 3
   },
   "file_extension": ".py",
   "mimetype": "text/x-python",
   "name": "python",
   "nbconvert_exporter": "python",
   "pygments_lexer": "ipython3",
   "version": "3.13.5"
  },
  "widgets": {
   "application/vnd.jupyter.widget-state+json": {
    "state": {},
    "version_major": 2,
    "version_minor": 0
   }
  }
 },
 "nbformat": 4,
 "nbformat_minor": 5
}
