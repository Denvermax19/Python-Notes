{
 "cells": [
  {
   "cell_type": "code",
   "execution_count": 7,
   "id": "b4aed2d2-840a-451a-812d-920850c3a307",
   "metadata": {},
   "outputs": [
    {
     "name": "stdout",
     "output_type": "stream",
     "text": [
      "nice 12\n",
      "nice 14\n",
      "nice 16\n",
      "nice 18\n",
      "nice 20\n",
      "nice 22\n",
      "nice 24\n",
      "nice 26\n",
      "nice 28\n",
      "nice 30\n",
      "nice 32\n",
      "nice 34\n",
      "nice 36\n",
      "nice 38\n",
      "nice 40\n",
      "nice 42\n",
      "nice 44\n",
      "nice 46\n",
      "nice 48\n",
      "nice 50\n",
      "nice 52\n",
      "nice 54\n",
      "nice 56\n",
      "nice 58\n",
      "nice 60\n",
      "nice 62\n",
      "nice 64\n",
      "nice 66\n",
      "nice 68\n",
      "nice 70\n",
      "nice 72\n",
      "nice 74\n",
      "nice 76\n",
      "nice 78\n",
      "nice 80\n",
      "nice 82\n",
      "nice 84\n",
      "nice 86\n",
      "nice 88\n",
      "nice 90\n",
      "nice 92\n",
      "nice 94\n",
      "nice 96\n",
      "nice 98\n",
      "nice 100\n",
      "Loop ended successfully !!\n"
     ]
    }
   ],
   "source": [
    "a=12\n",
    "while a<=100:\n",
    "    print(\"nice\",a)\n",
    "    a+=2\n",
    "else:\n",
    "    print(\"Loop ended successfully !!\")"
   ]
  },
  {
   "cell_type": "code",
   "execution_count": 1,
   "id": "5b06fd34-d64c-46ec-b85c-654d3aec0a8c",
   "metadata": {},
   "outputs": [
    {
     "name": "stdout",
     "output_type": "stream",
     "text": [
      "1\n",
      "2\n",
      "3\n",
      "4\n",
      "5\n",
      "6\n",
      "7\n",
      "8\n",
      "9\n",
      "10\n",
      "11\n",
      "12\n",
      "13\n",
      "14\n",
      "15\n"
     ]
    }
   ],
   "source": [
    "s=range(1,16)\n",
    "for i in s:\n",
    "    print(i)"
   ]
  },
  {
   "cell_type": "code",
   "execution_count": 4,
   "id": "6524bb1c-0dcc-4164-aefe-49fee0cf607d",
   "metadata": {},
   "outputs": [
    {
     "name": "stdout",
     "output_type": "stream",
     "text": [
      "1\n",
      "3\n",
      "5\n",
      "7\n",
      "9\n",
      "11\n",
      "13\n",
      "15\n",
      "17\n",
      "19\n"
     ]
    }
   ],
   "source": [
    "d=range(1,21,2)  # we are incrementing the values for every 2nd value\n",
    "for a in d:\n",
    "    print(a)"
   ]
  },
  {
   "cell_type": "code",
   "execution_count": null,
   "id": "4c4315b4-aea8-47af-adc7-1dccd75a16aa",
   "metadata": {},
   "outputs": [],
   "source": []
  },
  {
   "cell_type": "code",
   "execution_count": 8,
   "id": "51c7364b-554d-4262-b11a-0677b07b7ec1",
   "metadata": {},
   "outputs": [
    {
     "name": "stdout",
     "output_type": "stream",
     "text": [
      "20\n",
      "18\n",
      "16\n",
      "14\n",
      "12\n",
      "10\n",
      "8\n",
      "6\n",
      "4\n",
      "2\n"
     ]
    }
   ],
   "source": [
    "cold=range(20,0,-2)  # we are decrementing the values by every 2nd value\n",
    "for c in cold:\n",
    "    print(c)"
   ]
  },
  {
   "cell_type": "code",
   "execution_count": 9,
   "id": "91798104-e5b1-4258-9455-6d0b946814f5",
   "metadata": {},
   "outputs": [
    {
     "name": "stdout",
     "output_type": "stream",
     "text": [
      "I\n",
      "n\n",
      "i\n",
      "d\n",
      "a\n"
     ]
    }
   ],
   "source": [
    "mall=(\"Inida\") # we can get \"India\" String data in sequence\n",
    "for b in mall:\n",
    "    print(b)"
   ]
  },
  {
   "cell_type": "code",
   "execution_count": 14,
   "id": "f5db0f26-8a68-4cbc-9e3e-797c244c3ffb",
   "metadata": {},
   "outputs": [
    {
     "name": "stdout",
     "output_type": "stream",
     "text": [
      "F\n",
      "o\n",
      "r\n",
      "m\n",
      "u\n",
      "l\n",
      "a\n",
      "1\n"
     ]
    }
   ],
   "source": [
    "sold=(\"Formula1\")  \n",
    "for s in sold:\n",
    "    print(s)"
   ]
  },
  {
   "cell_type": "code",
   "execution_count": 15,
   "id": "dfbe3c24-1a1b-403a-a630-e00de303b10f",
   "metadata": {},
   "outputs": [
    {
     "name": "stdout",
     "output_type": "stream",
     "text": [
      "2\n",
      "20\n",
      "35\n",
      "STOP\n",
      "96\n"
     ]
    }
   ],
   "source": [
    "vega =[2,20,35,\"STOP\",96]  # we also get List data in sequence as well\n",
    "for v in vega:\n",
    "    print(v)"
   ]
  },
  {
   "cell_type": "code",
   "execution_count": 16,
   "id": "1e7770ad-2c71-46fe-9e26-76207449259d",
   "metadata": {},
   "outputs": [
    {
     "data": {
      "text/plain": [
       "[1, 2, 3, 4, 5, 6, 7, 8, 9, 10]"
      ]
     },
     "execution_count": 16,
     "metadata": {},
     "output_type": "execute_result"
    }
   ],
   "source": [
    "list(range(1,11)) # we get a list starting from 1 and ends with 10 as python ignores last value\n",
    "# in this case for 11 we only get 10"
   ]
  },
  {
   "cell_type": "code",
   "execution_count": 20,
   "id": "8b3c8bed-9022-47f8-8a98-1663211d8260",
   "metadata": {},
   "outputs": [
    {
     "data": {
      "text/plain": [
       "[1, 2, 3, 4, 5, 6, 7, 8, 9, 10, 11, 12, 13, 14, 15, 16, 17, 18, 19, 20]"
      ]
     },
     "execution_count": 20,
     "metadata": {},
     "output_type": "execute_result"
    }
   ],
   "source": [
    "xor=list(range(1,21))\n",
    "xor"
   ]
  },
  {
   "cell_type": "code",
   "execution_count": 21,
   "id": "0b40c274-a5d2-4feb-9729-8b333aaab75a",
   "metadata": {},
   "outputs": [
    {
     "ename": "TypeError",
     "evalue": "unsupported operand type(s) for ** or pow(): 'list' and 'int'",
     "output_type": "error",
     "traceback": [
      "\u001b[1;31m---------------------------------------------------------------------------\u001b[0m",
      "\u001b[1;31mTypeError\u001b[0m                                 Traceback (most recent call last)",
      "Cell \u001b[1;32mIn[21], line 1\u001b[0m\n\u001b[1;32m----> 1\u001b[0m xor\u001b[38;5;241m*\u001b[39m\u001b[38;5;241m*\u001b[39m\u001b[38;5;241m2\u001b[39m\n",
      "\u001b[1;31mTypeError\u001b[0m: unsupported operand type(s) for ** or pow(): 'list' and 'int'"
     ]
    }
   ],
   "source": [
    "xor**2  # we got error, becoz we tried to get squares of values in the LIST "
   ]
  },
  {
   "cell_type": "code",
   "execution_count": 23,
   "id": "972ded69-2e14-42ce-a8a3-9d0239c7a13c",
   "metadata": {},
   "outputs": [
    {
     "name": "stdout",
     "output_type": "stream",
     "text": [
      "1\n",
      "4\n",
      "9\n",
      "16\n",
      "25\n",
      "36\n",
      "49\n",
      "64\n",
      "81\n",
      "100\n",
      "121\n",
      "144\n",
      "169\n",
      "196\n",
      "225\n",
      "256\n",
      "289\n",
      "324\n",
      "361\n",
      "400\n"
     ]
    }
   ],
   "source": [
    "# to achive above problem we use \"for loop\"\n",
    "for x in xor:\n",
    "    print(x**2) # below we got the squares of values in the list"
   ]
  },
  {
   "cell_type": "markdown",
   "id": "f471514c-13e3-4d59-9e6d-fec7a70f3827",
   "metadata": {},
   "source": [
    "## List Comprehension"
   ]
  },
  {
   "cell_type": "code",
   "execution_count": null,
   "id": "e6d711ea-c74a-47b2-a8e1-da4a834fdff3",
   "metadata": {},
   "outputs": [],
   "source": [
    "# formate for list comprehension: [\"temporary name\" & operation For \"temp name\" in \"variable name\"]"
   ]
  },
  {
   "cell_type": "code",
   "execution_count": 24,
   "id": "3647e105-5bf2-4384-9039-cfe6dd3b7547",
   "metadata": {},
   "outputs": [
    {
     "data": {
      "text/plain": [
       "[1,\n",
       " 4,\n",
       " 9,\n",
       " 16,\n",
       " 25,\n",
       " 36,\n",
       " 49,\n",
       " 64,\n",
       " 81,\n",
       " 100,\n",
       " 121,\n",
       " 144,\n",
       " 169,\n",
       " 196,\n",
       " 225,\n",
       " 256,\n",
       " 289,\n",
       " 324,\n",
       " 361,\n",
       " 400]"
      ]
     },
     "execution_count": 24,
     "metadata": {},
     "output_type": "execute_result"
    }
   ],
   "source": [
    "[x**2 for x in xor]"
   ]
  },
  {
   "cell_type": "code",
   "execution_count": null,
   "id": "fb7a2390-ee8e-4aca-ae0d-0cac05b8da98",
   "metadata": {},
   "outputs": [],
   "source": []
  }
 ],
 "metadata": {
  "kernelspec": {
   "display_name": "Python [conda env:base] *",
   "language": "python",
   "name": "conda-base-py"
  },
  "language_info": {
   "codemirror_mode": {
    "name": "ipython",
    "version": 3
   },
   "file_extension": ".py",
   "mimetype": "text/x-python",
   "name": "python",
   "nbconvert_exporter": "python",
   "pygments_lexer": "ipython3",
   "version": "3.13.5"
  },
  "widgets": {
   "application/vnd.jupyter.widget-state+json": {
    "state": {},
    "version_major": 2,
    "version_minor": 0
   }
  }
 },
 "nbformat": 4,
 "nbformat_minor": 5
}
