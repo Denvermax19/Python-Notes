{
 "cells": [
  {
   "cell_type": "code",
   "execution_count": 26,
   "id": "e0e85dd6-2557-4d77-b330-4b74c8e29d5a",
   "metadata": {},
   "outputs": [],
   "source": [
    "# open() for creating and opening the file\n",
    "\n",
    "# read()\n",
    "# readlines() for reading line by line\n",
    "\n",
    "# write()\n",
    "# writelines() for writing line by line\n",
    "\n",
    "# seek() for defined posistion\n",
    "# tell() for finding the position\n",
    "\n",
    "# close() for closing the file"
   ]
  },
  {
   "cell_type": "markdown",
   "id": "3f202d83-5aad-423b-96df-bf0fedfae3ae",
   "metadata": {},
   "source": [
    "### Mode\n",
    "1. w --> writing\n",
    "2. r --> reading\n",
    "3. a --> appending\n",
    "4. rb --> read in binary\n",
    "5. wb --> write in binary"
   ]
  },
  {
   "cell_type": "code",
   "execution_count": 34,
   "id": "1293f471-85c8-451f-81ae-6f26d2821a7b",
   "metadata": {},
   "outputs": [],
   "source": [
    "file=open(file=\"myfile.txt\", mode=\"w\")"
   ]
  },
  {
   "cell_type": "code",
   "execution_count": 35,
   "id": "54413bd2-7fd9-4500-99ff-3e936c7cdb46",
   "metadata": {},
   "outputs": [],
   "source": [
    "file.writelines(\"1. People who quit\\n\")\n",
    "file.writelines(\"2. People who got fired\\n\")\n",
    "file.writelines(\"3. People who quit, but it's okay because the company didn't want them anyway\")\n",
    "file.close()"
   ]
  },
  {
   "cell_type": "code",
   "execution_count": 36,
   "id": "0d52b123-0148-411d-8e5c-4cf40ccf954d",
   "metadata": {},
   "outputs": [
    {
     "name": "stdout",
     "output_type": "stream",
     "text": [
      "Despite the rapid adoption of LLM chatbots, little is known about how they are used.\n",
      "We document the growth of ChatGPTâ€™s consumer product from its launch in November 2022 through\n",
      "July 2025, when it had been adopted by around 10% of the worldâ€™s adult population.\n",
      "Early adopters were disproportionately male but the gender gap has narrowed dramatically, \n",
      "and we find higher growth rates in lower-income countries. Using a privacy-preserving automated pipeline, \n",
      "we classify usage patterns within a representative sample of ChatGPT conversations.\n"
     ]
    }
   ],
   "source": [
    "f4=open(file=\"oldpython.txt\", mode=\"r\")\n",
    "print(f4.read())"
   ]
  },
  {
   "cell_type": "code",
   "execution_count": 24,
   "id": "e52ffdc1-8153-4e60-a5ea-fcdabae2e1b4",
   "metadata": {},
   "outputs": [],
   "source": []
  },
  {
   "cell_type": "code",
   "execution_count": 25,
   "id": "63fdad86-0868-4ded-817f-bf14df1e9e51",
   "metadata": {},
   "outputs": [],
   "source": []
  },
  {
   "cell_type": "code",
   "execution_count": 19,
   "id": "23f08a3a-ac28-44a8-92ac-17251753179c",
   "metadata": {},
   "outputs": [],
   "source": []
  },
  {
   "cell_type": "code",
   "execution_count": null,
   "id": "f5220a6c-0cbf-4e5f-9aa2-40649b4232bf",
   "metadata": {},
   "outputs": [],
   "source": []
  }
 ],
 "metadata": {
  "kernelspec": {
   "display_name": "Python [conda env:base] *",
   "language": "python",
   "name": "conda-base-py"
  },
  "language_info": {
   "codemirror_mode": {
    "name": "ipython",
    "version": 3
   },
   "file_extension": ".py",
   "mimetype": "text/x-python",
   "name": "python",
   "nbconvert_exporter": "python",
   "pygments_lexer": "ipython3",
   "version": "3.13.5"
  },
  "widgets": {
   "application/vnd.jupyter.widget-state+json": {
    "state": {},
    "version_major": 2,
    "version_minor": 0
   }
  }
 },
 "nbformat": 4,
 "nbformat_minor": 5
}
