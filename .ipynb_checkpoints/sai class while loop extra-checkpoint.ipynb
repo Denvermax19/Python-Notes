{
 "cells": [
  {
   "cell_type": "code",
   "execution_count": null,
   "id": "23d4a323-4fc4-4955-9c72-27d56c16e1f1",
   "metadata": {},
   "outputs": [],
   "source": [
    "username=\"lenin\"\n",
    "password=\"nazi\"\n",
    "while True:\n",
    "    username_input=input(\"Username\")\n",
    "    while True:\n",
    "        if username_input==username:\n",
    "            password_input=input(\"password\")\n",
    "            if password_input==password:\n",
    "                print(\"log in success\")\n",
    "                break\n",
    "            elif password_input!=password:\n",
    "                print(\"password is wrong, plz check again\")\n",
    "            break                \n",
    "        elif username_input!=username:\n",
    "            print(\"username is wrong, plz check again\")\n",
    "        else:\n",
    "            print(\"username or password is wrong\")"
   ]
  },
  {
   "cell_type": "code",
   "execution_count": null,
   "id": "b9133a5f-d6d3-4b3d-b46a-8bb6e53a8092",
   "metadata": {},
   "outputs": [],
   "source": []
  }
 ],
 "metadata": {
  "kernelspec": {
   "display_name": "Python [conda env:base] *",
   "language": "python",
   "name": "conda-base-py"
  },
  "language_info": {
   "codemirror_mode": {
    "name": "ipython",
    "version": 3
   },
   "file_extension": ".py",
   "mimetype": "text/x-python",
   "name": "python",
   "nbconvert_exporter": "python",
   "pygments_lexer": "ipython3",
   "version": "3.13.5"
  },
  "widgets": {
   "application/vnd.jupyter.widget-state+json": {
    "state": {},
    "version_major": 2,
    "version_minor": 0
   }
  }
 },
 "nbformat": 4,
 "nbformat_minor": 5
}
