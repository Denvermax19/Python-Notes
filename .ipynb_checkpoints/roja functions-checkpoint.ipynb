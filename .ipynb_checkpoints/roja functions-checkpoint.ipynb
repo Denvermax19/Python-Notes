{
 "cells": [
  {
   "cell_type": "code",
   "execution_count": 1,
   "id": "7d45201e-4dbb-4f6a-8c87-624e8e8fe974",
   "metadata": {},
   "outputs": [
    {
     "name": "stdout",
     "output_type": "stream",
     "text": [
      "14\n"
     ]
    }
   ],
   "source": []
  },
  {
   "cell_type": "code",
   "execution_count": 4,
   "id": "f50ccde0-7dc7-49ff-9a01-31380a24e8b5",
   "metadata": {},
   "outputs": [
    {
     "name": "stdout",
     "output_type": "stream",
     "text": [
      "109\n"
     ]
    }
   ],
   "source": [
    "def calc(a,b):\n",
    "    result=a+b\n",
    "    print(result)\n",
    "\n",
    "calc(100,9)"
   ]
  },
  {
   "cell_type": "code",
   "execution_count": 5,
   "id": "3bb99187-9e62-4c88-94ce-3c8f998f1309",
   "metadata": {},
   "outputs": [
    {
     "data": {
      "text/plain": [
       "7"
      ]
     },
     "execution_count": 5,
     "metadata": {},
     "output_type": "execute_result"
    }
   ],
   "source": [
    "result=lambda a,b:a+b\n",
    "result(2,5)"
   ]
  },
  {
   "cell_type": "code",
   "execution_count": null,
   "id": "77e1ba50-e201-4870-a5a9-17395e5b4eae",
   "metadata": {},
   "outputs": [],
   "source": []
  }
 ],
 "metadata": {
  "kernelspec": {
   "display_name": "Python [conda env:base] *",
   "language": "python",
   "name": "conda-base-py"
  },
  "language_info": {
   "codemirror_mode": {
    "name": "ipython",
    "version": 3
   },
   "file_extension": ".py",
   "mimetype": "text/x-python",
   "name": "python",
   "nbconvert_exporter": "python",
   "pygments_lexer": "ipython3",
   "version": "3.13.5"
  },
  "widgets": {
   "application/vnd.jupyter.widget-state+json": {
    "state": {},
    "version_major": 2,
    "version_minor": 0
   }
  }
 },
 "nbformat": 4,
 "nbformat_minor": 5
}
