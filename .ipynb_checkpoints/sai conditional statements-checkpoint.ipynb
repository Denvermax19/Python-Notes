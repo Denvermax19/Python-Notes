{
 "cells": [
  {
   "cell_type": "code",
   "execution_count": null,
   "id": "dbd111ad-7311-4a23-be5f-5c94be033243",
   "metadata": {},
   "outputs": [],
   "source": [
    "userid=\"sai\"\n",
    "password=\"sai7\"\n",
    "user_input=input(\"Username:\")\n",
    "if user_input==userid:\n",
    "    password_input=input(\"Password:\")\n",
    "    if password_input==password:\n",
    "        print(\"Log-in successfull\")\n",
    "    elif password_input!=password:\n",
    "        print(\"Password is wrong\")\n",
    "elif user_input!=userid:\n",
    "    print(\"Username is wrong\")"
   ]
  }
 ],
 "metadata": {
  "kernelspec": {
   "display_name": "Python [conda env:base] *",
   "language": "python",
   "name": "conda-base-py"
  },
  "language_info": {
   "codemirror_mode": {
    "name": "ipython",
    "version": 3
   },
   "file_extension": ".py",
   "mimetype": "text/x-python",
   "name": "python",
   "nbconvert_exporter": "python",
   "pygments_lexer": "ipython3",
   "version": "3.13.5"
  },
  "widgets": {
   "application/vnd.jupyter.widget-state+json": {
    "state": {},
    "version_major": 2,
    "version_minor": 0
   }
  }
 },
 "nbformat": 4,
 "nbformat_minor": 5
}
