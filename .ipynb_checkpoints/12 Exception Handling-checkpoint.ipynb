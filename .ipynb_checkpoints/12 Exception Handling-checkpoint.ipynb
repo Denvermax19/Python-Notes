{
 "cells": [
  {
   "cell_type": "code",
   "execution_count": 1,
   "id": "4a673710-8cd6-42e8-92fb-fde07ef985ef",
   "metadata": {},
   "outputs": [
    {
     "name": "stdin",
     "output_type": "stream",
     "text": [
      "first number:  w\n"
     ]
    },
    {
     "ename": "ValueError",
     "evalue": "invalid literal for int() with base 10: 'w'",
     "output_type": "error",
     "traceback": [
      "\u001b[1;31m---------------------------------------------------------------------------\u001b[0m",
      "\u001b[1;31mValueError\u001b[0m                                Traceback (most recent call last)",
      "Cell \u001b[1;32mIn[1], line 1\u001b[0m\n\u001b[1;32m----> 1\u001b[0m x\u001b[38;5;241m=\u001b[39m\u001b[38;5;28mint\u001b[39m(\u001b[38;5;28minput\u001b[39m(\u001b[38;5;124m\"\u001b[39m\u001b[38;5;124mfirst number: \u001b[39m\u001b[38;5;124m\"\u001b[39m))\n\u001b[0;32m      2\u001b[0m y\u001b[38;5;241m=\u001b[39m\u001b[38;5;28mint\u001b[39m(\u001b[38;5;28minput\u001b[39m(\u001b[38;5;124m\"\u001b[39m\u001b[38;5;124msecond number: \u001b[39m\u001b[38;5;124m\"\u001b[39m))\n\u001b[0;32m      3\u001b[0m answer\u001b[38;5;241m=\u001b[39mx\u001b[38;5;241m+\u001b[39my\n",
      "\u001b[1;31mValueError\u001b[0m: invalid literal for int() with base 10: 'w'"
     ]
    }
   ],
   "source": [
    "x=int(input(\"first number: \"))\n",
    "y=int(input(\"second number: \"))\n",
    "answer=x+y\n",
    "print(f\"answer is: {answer}\")  # as long as we input numbers we get results,\n",
    "# but it gives error like below when user types other than numbers (characters, alphabets,symbols)"
   ]
  },
  {
   "cell_type": "markdown",
   "id": "5d200f6b-b0a9-470d-8c7f-a5d28e39e031",
   "metadata": {},
   "source": [
    "### Exception\n",
    "Exception is an error that disturbs or stops the normal flow of the program (code)"
   ]
  },
  {
   "cell_type": "code",
   "execution_count": 2,
   "id": "57e03296-882f-4a2b-b5c5-752da7fe2dc9",
   "metadata": {},
   "outputs": [
    {
     "name": "stdin",
     "output_type": "stream",
     "text": [
      "first number:  m\n"
     ]
    },
    {
     "name": "stdout",
     "output_type": "stream",
     "text": [
      "Input only numbers\n"
     ]
    }
   ],
   "source": [
    "# To solve any unexpected events we use \"try and except\"\n",
    "try:\n",
    "    m=int(input(\"first number: \"))\n",
    "    n=int(input(\"second number: \"))\n",
    "    result=m+n\n",
    "    print(f\"answer is: {result}\") # try works as long as it no errors occur\n",
    "except Exception:\n",
    "    print(\"Input only numbers\")"
   ]
  },
  {
   "cell_type": "code",
   "execution_count": 7,
   "id": "36f9bd74-b295-4cc6-a51b-7a53dab3ea9c",
   "metadata": {},
   "outputs": [],
   "source": [
    "# To solve exceptions \"try, except, finally, else\" thse 4 keywordsare available"
   ]
  },
  {
   "cell_type": "code",
   "execution_count": 8,
   "id": "13079027-3153-4839-96b2-beaadb5799f6",
   "metadata": {},
   "outputs": [],
   "source": [
    "# Try ---> Run this code\n",
    "# Except ---> Run this only if exception occurs\n",
    "# Finally ---> Run this if no exception happens\n",
    "# Else ---> Always run this code"
   ]
  },
  {
   "cell_type": "markdown",
   "id": "65770c93-c8df-473c-af9d-1b428378e245",
   "metadata": {},
   "source": [
    "## Numbers Guessing Game"
   ]
  },
  {
   "cell_type": "code",
   "execution_count": 9,
   "id": "b5fb9c8b-9504-4399-a292-e9dc57927386",
   "metadata": {},
   "outputs": [],
   "source": [
    "import random # for generating random numbers"
   ]
  },
  {
   "cell_type": "code",
   "execution_count": 10,
   "id": "b3014b72-aede-43f5-aa71-acb1ce6b8bcb",
   "metadata": {},
   "outputs": [
    {
     "name": "stdin",
     "output_type": "stream",
     "text": [
      "guess the number:  13\n"
     ]
    },
    {
     "name": "stdout",
     "output_type": "stream",
     "text": [
      "guess higher\n"
     ]
    },
    {
     "name": "stdin",
     "output_type": "stream",
     "text": [
      "guess the number:  40\n"
     ]
    },
    {
     "name": "stdout",
     "output_type": "stream",
     "text": [
      "guess lower\n"
     ]
    },
    {
     "name": "stdin",
     "output_type": "stream",
     "text": [
      "guess the number:  30\n"
     ]
    },
    {
     "name": "stdout",
     "output_type": "stream",
     "text": [
      "guess lower\n"
     ]
    },
    {
     "name": "stdin",
     "output_type": "stream",
     "text": [
      "guess the number:  20\n"
     ]
    },
    {
     "name": "stdout",
     "output_type": "stream",
     "text": [
      "guess higher\n"
     ]
    },
    {
     "name": "stdin",
     "output_type": "stream",
     "text": [
      "guess the number:  25\n"
     ]
    },
    {
     "name": "stdout",
     "output_type": "stream",
     "text": [
      "guess higher\n"
     ]
    },
    {
     "name": "stdin",
     "output_type": "stream",
     "text": [
      "guess the number:  27\n"
     ]
    },
    {
     "name": "stdout",
     "output_type": "stream",
     "text": [
      "guess higher\n"
     ]
    },
    {
     "name": "stdin",
     "output_type": "stream",
     "text": [
      "guess the number:  29\n"
     ]
    },
    {
     "name": "stdout",
     "output_type": "stream",
     "text": [
      "congrates you won the match\n"
     ]
    }
   ],
   "source": [
    "# it worked perfect, but in real world we get exceptions we can't even imagine\n",
    "number=random.randrange(1,100)\n",
    "while True:\n",
    "    guess=int(input(\"guess the number: \"))\n",
    "    if guess==number:\n",
    "        print(\"congrates you won the match\")\n",
    "        break\n",
    "    elif guess < number:\n",
    "        print(\"guess higher\")\n",
    "    elif guess > number:\n",
    "        print(\"guess lower\")"
   ]
  },
  {
   "cell_type": "code",
   "execution_count": 11,
   "id": "fb7ecb93-6cbc-4781-9930-de22c17f15c0",
   "metadata": {},
   "outputs": [
    {
     "name": "stdin",
     "output_type": "stream",
     "text": [
      "guess the number:  40\n"
     ]
    },
    {
     "name": "stdout",
     "output_type": "stream",
     "text": [
      "guess much lower\n"
     ]
    },
    {
     "name": "stdin",
     "output_type": "stream",
     "text": [
      "guess the number:  30\n"
     ]
    },
    {
     "name": "stdout",
     "output_type": "stream",
     "text": [
      "guess much lower\n"
     ]
    },
    {
     "name": "stdin",
     "output_type": "stream",
     "text": [
      "guess the number:  20\n"
     ]
    },
    {
     "name": "stdout",
     "output_type": "stream",
     "text": [
      "guess much lower\n"
     ]
    },
    {
     "name": "stdin",
     "output_type": "stream",
     "text": [
      "guess the number:  10\n"
     ]
    },
    {
     "name": "stdout",
     "output_type": "stream",
     "text": [
      "guess much lower\n"
     ]
    },
    {
     "name": "stdin",
     "output_type": "stream",
     "text": [
      "guess the number:  5\n"
     ]
    },
    {
     "name": "stdout",
     "output_type": "stream",
     "text": [
      "guess much lower\n"
     ]
    },
    {
     "name": "stdin",
     "output_type": "stream",
     "text": [
      "guess the number:  2\n"
     ]
    },
    {
     "name": "stdout",
     "output_type": "stream",
     "text": [
      "guess much higher\n"
     ]
    },
    {
     "name": "stdin",
     "output_type": "stream",
     "text": [
      "guess the number:  4\n"
     ]
    },
    {
     "name": "stdout",
     "output_type": "stream",
     "text": [
      "Hurrayy !!!, you won\n"
     ]
    }
   ],
   "source": [
    "# To solve as much Exceptions as we can, we improve above the code as:\n",
    "num=random.randrange(1,100)\n",
    "while True:\n",
    "    try:\n",
    "        myGuess=int(input(\"guess the number: \"))\n",
    "        if myGuess==num:\n",
    "            print(\"Hurrayy !!!, you won\")\n",
    "            break\n",
    "        elif myGuess < num:\n",
    "            print(\"guess much higher\")\n",
    "        elif myGuess > num:\n",
    "            print(\"guess much lower\")\n",
    "    except Exception:\n",
    "        print(\"Input only Numbers\")"
   ]
  },
  {
   "cell_type": "code",
   "execution_count": 15,
   "id": "21d8e759-e5c3-46a2-af2a-7758be3e071d",
   "metadata": {},
   "outputs": [
    {
     "name": "stdin",
     "output_type": "stream",
     "text": [
      "guess the number:  40\n"
     ]
    },
    {
     "name": "stdout",
     "output_type": "stream",
     "text": [
      "guess much lower\n",
      "------------check-point--------------\n"
     ]
    },
    {
     "name": "stdin",
     "output_type": "stream",
     "text": [
      "guess the number:  30\n"
     ]
    },
    {
     "name": "stdout",
     "output_type": "stream",
     "text": [
      "guess much higher\n",
      "------------check-point--------------\n"
     ]
    },
    {
     "name": "stdin",
     "output_type": "stream",
     "text": [
      "guess the number:  35\n"
     ]
    },
    {
     "name": "stdout",
     "output_type": "stream",
     "text": [
      "guess much lower\n",
      "------------check-point--------------\n"
     ]
    },
    {
     "name": "stdin",
     "output_type": "stream",
     "text": [
      "guess the number:  33\n"
     ]
    },
    {
     "name": "stdout",
     "output_type": "stream",
     "text": [
      "guess much lower\n",
      "------------check-point--------------\n"
     ]
    },
    {
     "name": "stdin",
     "output_type": "stream",
     "text": [
      "guess the number:  31\n"
     ]
    },
    {
     "name": "stdout",
     "output_type": "stream",
     "text": [
      "Hurrayy !!!, you won.\n",
      "You took 5 chances\n",
      "------------check-point--------------\n"
     ]
    }
   ],
   "source": [
    "# lets add one cool feature for above GAME\n",
    "num=random.randrange(1,100)\n",
    "count=1\n",
    "while True:\n",
    "    try:\n",
    "        myGuess=int(input(\"guess the number: \"))\n",
    "        if myGuess==num:\n",
    "            print(f\"Hurrayy !!!, you won.\\nYou took {count} chances\")\n",
    "            break\n",
    "        elif myGuess < num:\n",
    "            print(\"guess much higher\")\n",
    "        elif myGuess > num:\n",
    "            print(\"guess much lower\")\n",
    "    except Exception:\n",
    "        print(\"Input only Numbers\")\n",
    "    else:\n",
    "        count=count+1\n",
    "    finally:\n",
    "        print(\"------------check-point--------------\")\n",
    "# We added count variable, for finding how many chances we took for guessing the right number    "
   ]
  },
  {
   "cell_type": "markdown",
   "id": "4461c3a9-f6a1-42b2-8ef9-6d0e2d27bc8f",
   "metadata": {},
   "source": [
    "## Nested Exception Handling"
   ]
  },
  {
   "cell_type": "code",
   "execution_count": 18,
   "id": "588fa199-90d4-4898-9a1d-c837e413b0b4",
   "metadata": {},
   "outputs": [
    {
     "name": "stdin",
     "output_type": "stream",
     "text": [
      "enter 1st number:  0\n",
      "enter 2nd number:  0\n"
     ]
    },
    {
     "name": "stdout",
     "output_type": "stream",
     "text": [
      "error...\n"
     ]
    }
   ],
   "source": [
    "try:\n",
    "    try:\n",
    "        ab=int(input(\"enter 1st number: \"))\n",
    "        bc=int(input(\"enter 2nd number: \"))\n",
    "        divedby=ab/bc\n",
    "        print(f\"result is: {divedby}\")\n",
    "    except ValueError:\n",
    "        print(\"enter only numbers\")\n",
    "except Exception:\n",
    "    print(\"error...\")"
   ]
  },
  {
   "cell_type": "code",
   "execution_count": null,
   "id": "2a2234c5-6c87-4a99-b245-90230e79b798",
   "metadata": {},
   "outputs": [],
   "source": []
  },
  {
   "cell_type": "code",
   "execution_count": null,
   "id": "b366c52d-a4df-411e-b9b4-8a3630e9023d",
   "metadata": {},
   "outputs": [],
   "source": []
  },
  {
   "cell_type": "code",
   "execution_count": null,
   "id": "85ebc2a4-6f12-4923-8686-588bb62b8387",
   "metadata": {},
   "outputs": [],
   "source": []
  },
  {
   "cell_type": "code",
   "execution_count": null,
   "id": "6c6b9211-a258-4999-a94c-46bf302049bc",
   "metadata": {},
   "outputs": [],
   "source": []
  },
  {
   "cell_type": "code",
   "execution_count": null,
   "id": "e85d3471-0c10-45c4-bd83-da7ed3648d53",
   "metadata": {},
   "outputs": [],
   "source": []
  }
 ],
 "metadata": {
  "kernelspec": {
   "display_name": "Python [conda env:base] *",
   "language": "python",
   "name": "conda-base-py"
  },
  "language_info": {
   "codemirror_mode": {
    "name": "ipython",
    "version": 3
   },
   "file_extension": ".py",
   "mimetype": "text/x-python",
   "name": "python",
   "nbconvert_exporter": "python",
   "pygments_lexer": "ipython3",
   "version": "3.13.5"
  },
  "widgets": {
   "application/vnd.jupyter.widget-state+json": {
    "state": {},
    "version_major": 2,
    "version_minor": 0
   }
  }
 },
 "nbformat": 4,
 "nbformat_minor": 5
}
