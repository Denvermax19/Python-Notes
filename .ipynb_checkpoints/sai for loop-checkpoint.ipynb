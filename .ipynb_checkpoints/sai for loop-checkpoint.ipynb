{
 "cells": [
  {
   "cell_type": "markdown",
   "id": "b75764d9-8681-4a5b-a6fd-3a691fea5c4f",
   "metadata": {},
   "source": [
    "## For loop"
   ]
  },
  {
   "cell_type": "code",
   "execution_count": null,
   "id": "53854ac3-237b-48d6-9719-a9246ffa40ab",
   "metadata": {},
   "outputs": [],
   "source": [
    "# for loop format: for (temporray name) in variable name: operation/statement"
   ]
  },
  {
   "cell_type": "code",
   "execution_count": 1,
   "id": "34d42e6a-8106-4266-8f83-2d9661f21238",
   "metadata": {},
   "outputs": [
    {
     "name": "stdout",
     "output_type": "stream",
     "text": [
      "1\n",
      "2\n",
      "3\n",
      "4\n"
     ]
    }
   ],
   "source": [
    "my_data=[1,2,3,4]\n",
    "for s in my_data:\n",
    "    print(s)"
   ]
  },
  {
   "cell_type": "code",
   "execution_count": 7,
   "id": "28d4185d-3e3b-4f78-adb9-6b26fe7189a7",
   "metadata": {},
   "outputs": [
    {
     "name": "stdout",
     "output_type": "stream",
     "text": [
      "1\n",
      "2\n",
      "3\n",
      "4\n",
      "5\n",
      "6\n",
      "7\n",
      "8\n",
      "9\n",
      "10\n",
      "11\n",
      "12\n",
      "13\n",
      "14\n",
      "15\n",
      "16\n",
      "17\n",
      "18\n",
      "19\n",
      "20\n",
      "21\n",
      "22\n",
      "23\n",
      "24\n"
     ]
    }
   ],
   "source": [
    "sai_data=range(1,25,1)\n",
    "for c in sai_data:\n",
    "    print(c)"
   ]
  },
  {
   "cell_type": "code",
   "execution_count": 10,
   "id": "84a4c466-0aad-430c-8c52-e80065de2920",
   "metadata": {},
   "outputs": [
    {
     "ename": "TypeError",
     "evalue": "unsupported operand type(s) for ** or pow(): 'list' and 'int'",
     "output_type": "error",
     "traceback": [
      "\u001b[1;31m---------------------------------------------------------------------------\u001b[0m",
      "\u001b[1;31mTypeError\u001b[0m                                 Traceback (most recent call last)",
      "Cell \u001b[1;32mIn[10], line 2\u001b[0m\n\u001b[0;32m      1\u001b[0m nord\u001b[38;5;241m=\u001b[39m\u001b[38;5;28mlist\u001b[39m(\u001b[38;5;28mrange\u001b[39m(\u001b[38;5;241m1\u001b[39m,\u001b[38;5;241m21\u001b[39m))\n\u001b[1;32m----> 2\u001b[0m nord\u001b[38;5;241m*\u001b[39m\u001b[38;5;241m*\u001b[39m\u001b[38;5;241m2\u001b[39m\n",
      "\u001b[1;31mTypeError\u001b[0m: unsupported operand type(s) for ** or pow(): 'list' and 'int'"
     ]
    }
   ],
   "source": [
    "nord=list(range(1,21))\n",
    "nord**2"
   ]
  },
  {
   "cell_type": "code",
   "execution_count": 18,
   "id": "03dbfd5f-5e24-484c-a631-2f6c43b1c68b",
   "metadata": {},
   "outputs": [
    {
     "name": "stdout",
     "output_type": "stream",
     "text": [
      "1\n",
      "8\n",
      "27\n",
      "64\n",
      "125\n",
      "216\n",
      "343\n",
      "512\n",
      "729\n",
      "1000\n",
      "1331\n",
      "1728\n",
      "2197\n",
      "2744\n",
      "3375\n",
      "4096\n",
      "4913\n",
      "5832\n",
      "6859\n",
      "8000\n"
     ]
    }
   ],
   "source": [
    "for x in nord:\n",
    "    print(x**3)"
   ]
  },
  {
   "cell_type": "markdown",
   "id": "1b8475e0-8930-449c-b169-715638b3f1f6",
   "metadata": {},
   "source": [
    "## List comprehension"
   ]
  },
  {
   "cell_type": "code",
   "execution_count": null,
   "id": "96812482-faa6-4f56-9f96-5c94e9acd039",
   "metadata": {},
   "outputs": [],
   "source": [
    "# Formate: operation for (temp name) in (variable name)"
   ]
  },
  {
   "cell_type": "code",
   "execution_count": 21,
   "id": "4407fa74-0731-4b70-93be-2cdc173195fc",
   "metadata": {},
   "outputs": [
    {
     "data": {
      "text/plain": [
       "[1,\n",
       " 16,\n",
       " 81,\n",
       " 256,\n",
       " 625,\n",
       " 1296,\n",
       " 2401,\n",
       " 4096,\n",
       " 6561,\n",
       " 10000,\n",
       " 14641,\n",
       " 20736,\n",
       " 28561,\n",
       " 38416,\n",
       " 50625,\n",
       " 65536,\n",
       " 83521,\n",
       " 104976,\n",
       " 130321,\n",
       " 160000,\n",
       " 194481,\n",
       " 234256,\n",
       " 279841,\n",
       " 331776,\n",
       " 390625]"
      ]
     },
     "execution_count": 21,
     "metadata": {},
     "output_type": "execute_result"
    }
   ],
   "source": [
    "moll=list(range(1,26))\n",
    "[m**4 for m in moll]"
   ]
  },
  {
   "cell_type": "code",
   "execution_count": null,
   "id": "ad3eebf7-2a5f-4169-9447-303191497b4a",
   "metadata": {},
   "outputs": [],
   "source": []
  },
  {
   "cell_type": "code",
   "execution_count": null,
   "id": "9ffede2b-cf20-45d1-9146-898455d213c8",
   "metadata": {},
   "outputs": [],
   "source": []
  },
  {
   "cell_type": "code",
   "execution_count": null,
   "id": "d9713a6d-fe73-48f3-a047-78985d5ad9a5",
   "metadata": {},
   "outputs": [],
   "source": []
  },
  {
   "cell_type": "code",
   "execution_count": null,
   "id": "9e1be4db-b6b1-4ef3-88be-68ee4b2fb8a7",
   "metadata": {},
   "outputs": [],
   "source": []
  }
 ],
 "metadata": {
  "kernelspec": {
   "display_name": "Python [conda env:base] *",
   "language": "python",
   "name": "conda-base-py"
  },
  "language_info": {
   "codemirror_mode": {
    "name": "ipython",
    "version": 3
   },
   "file_extension": ".py",
   "mimetype": "text/x-python",
   "name": "python",
   "nbconvert_exporter": "python",
   "pygments_lexer": "ipython3",
   "version": "3.13.5"
  },
  "widgets": {
   "application/vnd.jupyter.widget-state+json": {
    "state": {},
    "version_major": 2,
    "version_minor": 0
   }
  }
 },
 "nbformat": 4,
 "nbformat_minor": 5
}
