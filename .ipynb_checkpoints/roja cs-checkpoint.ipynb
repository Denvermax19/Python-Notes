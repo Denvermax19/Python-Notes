{
 "cells": [
  {
   "cell_type": "code",
   "execution_count": 10,
   "id": "251cf83a-ce9c-47b6-90c9-dda7a21fda0b",
   "metadata": {},
   "outputs": [
    {
     "name": "stdout",
     "output_type": "stream",
     "text": [
      "holiday\n"
     ]
    }
   ],
   "source": [
    "a=12\n",
    "b=10\n",
    "c=21\n",
    "\n",
    "if a<b:\n",
    "    print(\"super\")\n",
    "elif b<a:\n",
    "    print(\"holiday\")\n",
    "elif c>a:\n",
    "    print(\"working day\")\n",
    "else:\n",
    "    print(\"hot\")"
   ]
  },
  {
   "cell_type": "code",
   "execution_count": 22,
   "id": "6ada0847-3bc3-4a3b-8c9b-71bd0ba545bd",
   "metadata": {},
   "outputs": [
    {
     "name": "stdin",
     "output_type": "stream",
     "text": [
      "Plz enter Username: roja\n",
      "Plz enter Password: anand\n"
     ]
    },
    {
     "name": "stdout",
     "output_type": "stream",
     "text": [
      "log in successfullllll\n"
     ]
    }
   ],
   "source": [
    "username=\"roja\"\n",
    "password=\"anand\"\n",
    "user_input=input(\"Plz enter Username:\")\n",
    "if user_input==username:\n",
    "    password_input=input(\"Plz enter Password:\")\n",
    "    if password_input==password:\n",
    "        print(\"log in successfullllll\")\n",
    "elif user_input!=username:\n",
    "    print(\"sarigga chusukoni raayi raa\")"
   ]
  },
  {
   "cell_type": "code",
   "execution_count": null,
   "id": "82a03f50-b4af-483d-a314-b637062356ee",
   "metadata": {},
   "outputs": [],
   "source": []
  }
 ],
 "metadata": {
  "kernelspec": {
   "display_name": "Python [conda env:base] *",
   "language": "python",
   "name": "conda-base-py"
  },
  "language_info": {
   "codemirror_mode": {
    "name": "ipython",
    "version": 3
   },
   "file_extension": ".py",
   "mimetype": "text/x-python",
   "name": "python",
   "nbconvert_exporter": "python",
   "pygments_lexer": "ipython3",
   "version": "3.13.5"
  },
  "widgets": {
   "application/vnd.jupyter.widget-state+json": {
    "state": {},
    "version_major": 2,
    "version_minor": 0
   }
  }
 },
 "nbformat": 4,
 "nbformat_minor": 5
}
