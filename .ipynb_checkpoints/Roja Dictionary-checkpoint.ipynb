{
 "cells": [
  {
   "cell_type": "code",
   "execution_count": 1,
   "id": "4a67b34d-5ed1-4ae8-ad2f-279fcb3c7e95",
   "metadata": {},
   "outputs": [
    {
     "data": {
      "text/plain": [
       "{'a': 12, 4: 56, 90: 'hi'}"
      ]
     },
     "execution_count": 1,
     "metadata": {},
     "output_type": "execute_result"
    }
   ],
   "source": [
    "sale={\"a\":12,4:56,90:\"hi\"}\n",
    "sale"
   ]
  },
  {
   "cell_type": "code",
   "execution_count": 3,
   "id": "9a675ced-5b3b-4965-88d7-e761d49c2499",
   "metadata": {},
   "outputs": [
    {
     "data": {
      "text/plain": [
       "12"
      ]
     },
     "execution_count": 3,
     "metadata": {},
     "output_type": "execute_result"
    }
   ],
   "source": [
    "sale[\"a\"]"
   ]
  },
  {
   "cell_type": "markdown",
   "id": "ae6245d4-44a8-4d07-805e-bc8f4c549111",
   "metadata": {},
   "source": [
    "## Methods"
   ]
  },
  {
   "cell_type": "code",
   "execution_count": 5,
   "id": "c0157e96-2c58-42af-b60c-88b8568165c3",
   "metadata": {},
   "outputs": [
    {
     "data": {
      "text/plain": [
       "dict_keys(['a', 4, 90])"
      ]
     },
     "execution_count": 5,
     "metadata": {},
     "output_type": "execute_result"
    }
   ],
   "source": [
    "sale.keys()  # gives list of all keys in the dictionary"
   ]
  },
  {
   "cell_type": "code",
   "execution_count": 6,
   "id": "606fe79c-ced0-4239-aec2-6c09d5119038",
   "metadata": {},
   "outputs": [
    {
     "data": {
      "text/plain": [
       "dict_values([12, 56, 'hi'])"
      ]
     },
     "execution_count": 6,
     "metadata": {},
     "output_type": "execute_result"
    }
   ],
   "source": [
    "sale.values() # gives list of values in the dict"
   ]
  },
  {
   "cell_type": "code",
   "execution_count": 7,
   "id": "0b4ab45b-34e1-435a-96ef-158edb066138",
   "metadata": {},
   "outputs": [
    {
     "data": {
      "text/plain": [
       "12"
      ]
     },
     "execution_count": 7,
     "metadata": {},
     "output_type": "execute_result"
    }
   ],
   "source": [
    "sale.get(\"a\")  # gives specified key's value"
   ]
  },
  {
   "cell_type": "code",
   "execution_count": 8,
   "id": "03ce0a0e-39d8-48c7-8256-f8c6d95ceb25",
   "metadata": {},
   "outputs": [
    {
     "data": {
      "text/plain": [
       "{'S': None, 'o': None, 'r': None, 'y': None}"
      ]
     },
     "execution_count": 8,
     "metadata": {},
     "output_type": "execute_result"
    }
   ],
   "source": [
    "sale.fromkeys(\"Sorry\")"
   ]
  },
  {
   "cell_type": "code",
   "execution_count": 9,
   "id": "14d97b0a-25f7-46ad-aadf-60ac9be22294",
   "metadata": {},
   "outputs": [],
   "source": [
    "sale.update({\"s\":15}) # it adds the new given data in the end of the original data"
   ]
  },
  {
   "cell_type": "code",
   "execution_count": 10,
   "id": "a05e654c-606e-4d35-b81e-ceadb413263f",
   "metadata": {},
   "outputs": [
    {
     "data": {
      "text/plain": [
       "{'a': 12, 4: 56, 90: 'hi', 's': 15}"
      ]
     },
     "execution_count": 10,
     "metadata": {},
     "output_type": "execute_result"
    }
   ],
   "source": [
    "sale"
   ]
  },
  {
   "cell_type": "code",
   "execution_count": 11,
   "id": "88ca04ad-156e-4e11-bd3b-eedbc9a96bd7",
   "metadata": {},
   "outputs": [
    {
     "data": {
      "text/plain": [
       "dict"
      ]
     },
     "execution_count": 11,
     "metadata": {},
     "output_type": "execute_result"
    }
   ],
   "source": [
    "mall={}\n",
    "type(mall)"
   ]
  },
  {
   "cell_type": "code",
   "execution_count": 12,
   "id": "a62b36c7-fe91-4fb9-9fa2-6d89ca877ce0",
   "metadata": {},
   "outputs": [
    {
     "data": {
      "text/plain": [
       "{'s': None, 'o': None, 'r': None, 'y': None}"
      ]
     },
     "execution_count": 12,
     "metadata": {},
     "output_type": "execute_result"
    }
   ],
   "source": [
    "core=\"sorry\"\n",
    "mall.fromkeys(core)"
   ]
  },
  {
   "cell_type": "code",
   "execution_count": 15,
   "id": "cde347ea-f8bb-418b-9ef3-a64d5a6ff249",
   "metadata": {},
   "outputs": [],
   "source": [
    "mall[\"s\"]=12\n",
    "mall[\"o\"]=32\n",
    "mall[\"r\"]=90\n",
    "mall[\"y\"]=7"
   ]
  },
  {
   "cell_type": "code",
   "execution_count": 16,
   "id": "04e2b291-4767-4181-a819-a70ae388da2a",
   "metadata": {},
   "outputs": [
    {
     "data": {
      "text/plain": [
       "{'s': 12, 'o': 32, 'r': 90, 'y': 7}"
      ]
     },
     "execution_count": 16,
     "metadata": {},
     "output_type": "execute_result"
    }
   ],
   "source": [
    "mall"
   ]
  },
  {
   "cell_type": "code",
   "execution_count": 17,
   "id": "6c36ee0e-8201-45f3-a248-903dc8f73b8a",
   "metadata": {},
   "outputs": [
    {
     "data": {
      "text/plain": [
       "{'Product': ['knife', 'cooker', 'fridge'], 'Cost': [50, 2000, 20000]}"
      ]
     },
     "execution_count": 17,
     "metadata": {},
     "output_type": "execute_result"
    }
   ],
   "source": [
    "new={}\n",
    "new[\"Product\"]=[\"knife\",\"cooker\",\"fridge\"]\n",
    "new[\"Cost\"]=[50,2000,20000]\n",
    "new"
   ]
  },
  {
   "cell_type": "code",
   "execution_count": 18,
   "id": "c6635883-8d9d-4767-bbb9-ac00841c179f",
   "metadata": {},
   "outputs": [],
   "source": [
    "import pandas"
   ]
  },
  {
   "cell_type": "code",
   "execution_count": 19,
   "id": "c10e4718-2d3b-479e-b9d2-82e9616248a1",
   "metadata": {},
   "outputs": [
    {
     "data": {
      "text/html": [
       "<div>\n",
       "<style scoped>\n",
       "    .dataframe tbody tr th:only-of-type {\n",
       "        vertical-align: middle;\n",
       "    }\n",
       "\n",
       "    .dataframe tbody tr th {\n",
       "        vertical-align: top;\n",
       "    }\n",
       "\n",
       "    .dataframe thead th {\n",
       "        text-align: right;\n",
       "    }\n",
       "</style>\n",
       "<table border=\"1\" class=\"dataframe\">\n",
       "  <thead>\n",
       "    <tr style=\"text-align: right;\">\n",
       "      <th></th>\n",
       "      <th>Product</th>\n",
       "      <th>Cost</th>\n",
       "    </tr>\n",
       "  </thead>\n",
       "  <tbody>\n",
       "    <tr>\n",
       "      <th>0</th>\n",
       "      <td>knife</td>\n",
       "      <td>50</td>\n",
       "    </tr>\n",
       "    <tr>\n",
       "      <th>1</th>\n",
       "      <td>cooker</td>\n",
       "      <td>2000</td>\n",
       "    </tr>\n",
       "    <tr>\n",
       "      <th>2</th>\n",
       "      <td>fridge</td>\n",
       "      <td>20000</td>\n",
       "    </tr>\n",
       "  </tbody>\n",
       "</table>\n",
       "</div>"
      ],
      "text/plain": [
       "  Product   Cost\n",
       "0   knife     50\n",
       "1  cooker   2000\n",
       "2  fridge  20000"
      ]
     },
     "execution_count": 19,
     "metadata": {},
     "output_type": "execute_result"
    }
   ],
   "source": [
    "pandas.DataFrame(new)"
   ]
  },
  {
   "cell_type": "code",
   "execution_count": null,
   "id": "63134649-fa35-417d-a07f-c7587c351888",
   "metadata": {},
   "outputs": [],
   "source": []
  }
 ],
 "metadata": {
  "kernelspec": {
   "display_name": "Python [conda env:base] *",
   "language": "python",
   "name": "conda-base-py"
  },
  "language_info": {
   "codemirror_mode": {
    "name": "ipython",
    "version": 3
   },
   "file_extension": ".py",
   "mimetype": "text/x-python",
   "name": "python",
   "nbconvert_exporter": "python",
   "pygments_lexer": "ipython3",
   "version": "3.13.5"
  },
  "widgets": {
   "application/vnd.jupyter.widget-state+json": {
    "state": {},
    "version_major": 2,
    "version_minor": 0
   }
  }
 },
 "nbformat": 4,
 "nbformat_minor": 5
}
