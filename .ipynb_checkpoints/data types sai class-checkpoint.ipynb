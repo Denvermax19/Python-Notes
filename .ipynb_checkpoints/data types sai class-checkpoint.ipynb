{
 "cells": [
  {
   "cell_type": "code",
   "execution_count": 1,
   "id": "ea2561db-0ab8-4c05-a502-135af72482d6",
   "metadata": {},
   "outputs": [
    {
     "name": "stdout",
     "output_type": "stream",
     "text": [
      "its new beginning\n"
     ]
    }
   ],
   "source": [
    "anand=\"its new beginning\"\n",
    "print(anand)"
   ]
  },
  {
   "cell_type": "code",
   "execution_count": 2,
   "id": "6732d50d-5aaa-4ec3-a0cf-57361178aae5",
   "metadata": {},
   "outputs": [
    {
     "name": "stdout",
     "output_type": "stream",
     "text": [
      "more\n"
     ]
    }
   ],
   "source": [
    "kiran=\"more\" \n",
    "print(kiran)"
   ]
  },
  {
   "cell_type": "code",
   "execution_count": 3,
   "id": "7d805be6-b859-4a69-b66a-d753c19a9169",
   "metadata": {},
   "outputs": [],
   "source": [
    "malik={1:46, \"b\":35, 5:\"sai\"}"
   ]
  },
  {
   "cell_type": "code",
   "execution_count": 6,
   "id": "3d5ba6c7-bad5-40de-8d86-f1a01926fe32",
   "metadata": {},
   "outputs": [],
   "source": [
    "malik[\"b\"]=\"sai kiran\""
   ]
  },
  {
   "cell_type": "code",
   "execution_count": 7,
   "id": "1fe1cc9a-3d68-447e-b32f-1e81cfd5dd43",
   "metadata": {},
   "outputs": [
    {
     "data": {
      "text/plain": [
       "{1: 46, 'b': 'sai kiran', 5: 'sai'}"
      ]
     },
     "execution_count": 7,
     "metadata": {},
     "output_type": "execute_result"
    }
   ],
   "source": [
    "malik"
   ]
  },
  {
   "cell_type": "code",
   "execution_count": null,
   "id": "40c4ee00-8ba3-4040-bf1e-6ee08f0d59e0",
   "metadata": {},
   "outputs": [],
   "source": []
  }
 ],
 "metadata": {
  "kernelspec": {
   "display_name": "Python [conda env:base] *",
   "language": "python",
   "name": "conda-base-py"
  },
  "language_info": {
   "codemirror_mode": {
    "name": "ipython",
    "version": 3
   },
   "file_extension": ".py",
   "mimetype": "text/x-python",
   "name": "python",
   "nbconvert_exporter": "python",
   "pygments_lexer": "ipython3",
   "version": "3.13.5"
  },
  "widgets": {
   "application/vnd.jupyter.widget-state+json": {
    "state": {},
    "version_major": 2,
    "version_minor": 0
   }
  }
 },
 "nbformat": 4,
 "nbformat_minor": 5
}
