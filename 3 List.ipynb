{
 "cells": [
  {
   "cell_type": "code",
   "execution_count": 1,
   "id": "2f2eda0a-0eed-4589-8c49-e1b60c2bdcc8",
   "metadata": {},
   "outputs": [
    {
     "data": {
      "text/plain": [
       "[2, 67, 53.1, 'cold']"
      ]
     },
     "execution_count": 1,
     "metadata": {},
     "output_type": "execute_result"
    }
   ],
   "source": [
    "anand=[2,67,53.1,\"cold\"]\n",
    "anand"
   ]
  },
  {
   "cell_type": "code",
   "execution_count": 2,
   "id": "b3b6d6fd-2bd9-41f8-a235-d28031c19a4f",
   "metadata": {},
   "outputs": [
    {
     "data": {
      "text/plain": [
       "67"
      ]
     },
     "execution_count": 2,
     "metadata": {},
     "output_type": "execute_result"
    }
   ],
   "source": [
    "anand[1]"
   ]
  },
  {
   "cell_type": "code",
   "execution_count": 3,
   "id": "252d6191-624f-45a8-b653-2e7d58ca2bd7",
   "metadata": {},
   "outputs": [
    {
     "data": {
      "text/plain": [
       "[67, 53.1]"
      ]
     },
     "execution_count": 3,
     "metadata": {},
     "output_type": "execute_result"
    }
   ],
   "source": [
    "anand[1:3]"
   ]
  },
  {
   "cell_type": "code",
   "execution_count": 4,
   "id": "fe5a575e-1ecd-412e-a5a9-e0a56a8e2cc9",
   "metadata": {},
   "outputs": [
    {
     "data": {
      "text/plain": [
       "[24, 6.7, 'hot']"
      ]
     },
     "execution_count": 4,
     "metadata": {},
     "output_type": "execute_result"
    }
   ],
   "source": [
    "nazi=[24,6.7,\"hot\"]\n",
    "nazi"
   ]
  },
  {
   "cell_type": "code",
   "execution_count": 7,
   "id": "db8355de-3df4-4f58-b356-f23240259c99",
   "metadata": {},
   "outputs": [
    {
     "data": {
      "text/plain": [
       "[2, 67, 53.1, 'cold', 24, 6.7, 'hot']"
      ]
     },
     "execution_count": 7,
     "metadata": {},
     "output_type": "execute_result"
    }
   ],
   "source": [
    "lenin=anand+nazi\n",
    "lenin"
   ]
  },
  {
   "cell_type": "code",
   "execution_count": 9,
   "id": "3b3e6ff1-746d-43e1-9f49-898ac9205e70",
   "metadata": {},
   "outputs": [
    {
     "data": {
      "text/plain": [
       "[24, 6.7, 'hot', 24, 6.7, 'hot']"
      ]
     },
     "execution_count": 9,
     "metadata": {},
     "output_type": "execute_result"
    }
   ],
   "source": [
    "nazi*2"
   ]
  },
  {
   "cell_type": "markdown",
   "id": "de4369e1-e20b-47e4-b1a3-fed96f6897e9",
   "metadata": {},
   "source": [
    "## Methods"
   ]
  },
  {
   "cell_type": "code",
   "execution_count": 10,
   "id": "ee923407-ca95-4501-b5e0-d33520b579dc",
   "metadata": {},
   "outputs": [
    {
     "data": {
      "text/plain": [
       "[2, 67, 53.1, 'cold', 24, 6.7, 'hot', 'life']"
      ]
     },
     "execution_count": 10,
     "metadata": {},
     "output_type": "execute_result"
    }
   ],
   "source": [
    "lenin.append(\"life\")\n",
    "lenin"
   ]
  },
  {
   "cell_type": "code",
   "execution_count": 12,
   "id": "fd818cc1-c29d-4457-87c1-7e046bcd1df8",
   "metadata": {},
   "outputs": [
    {
     "data": {
      "text/plain": [
       "[2, 67, 53.1, 'cold', 24, 6.7, 69, 69, 'hot', 'life']"
      ]
     },
     "execution_count": 12,
     "metadata": {},
     "output_type": "execute_result"
    }
   ],
   "source": [
    "lenin.insert(6,69)\n",
    "lenin               # i run code 2 times sowe got 69 2 times."
   ]
  },
  {
   "cell_type": "code",
   "execution_count": 13,
   "id": "278a001e-6cb5-4d62-9276-5b0ebe4c0e67",
   "metadata": {},
   "outputs": [],
   "source": [
    "lenin.remove(69)   # we removed 1st occurence of 69\n",
    "# to remove something we give its \"value\""
   ]
  },
  {
   "cell_type": "code",
   "execution_count": 14,
   "id": "4d891033-279a-459f-8d25-49a112c513d7",
   "metadata": {},
   "outputs": [
    {
     "data": {
      "text/plain": [
       "[2, 67, 53.1, 'cold', 24, 6.7, 69, 'hot', 'life']"
      ]
     },
     "execution_count": 14,
     "metadata": {},
     "output_type": "execute_result"
    }
   ],
   "source": [
    "lenin"
   ]
  },
  {
   "cell_type": "code",
   "execution_count": 16,
   "id": "24accfbd-7b90-41c3-ab40-3a8f462884a5",
   "metadata": {},
   "outputs": [
    {
     "data": {
      "text/plain": [
       "69"
      ]
     },
     "execution_count": 16,
     "metadata": {},
     "output_type": "execute_result"
    }
   ],
   "source": [
    "lenin.pop(6)  # to remove something we give its \"position\""
   ]
  },
  {
   "cell_type": "code",
   "execution_count": 17,
   "id": "a3d92d89-c5c2-44f0-8f2d-b6e748c743a8",
   "metadata": {},
   "outputs": [
    {
     "data": {
      "text/plain": [
       "[2, 67, 53.1, 'cold', 24, 6.7, 'hot', 'life']"
      ]
     },
     "execution_count": 17,
     "metadata": {},
     "output_type": "execute_result"
    }
   ],
   "source": [
    "lenin"
   ]
  },
  {
   "cell_type": "code",
   "execution_count": 18,
   "id": "24406259-27f1-4dd1-bba6-185e23a46e1e",
   "metadata": {},
   "outputs": [],
   "source": [
    "lenin.reverse()"
   ]
  },
  {
   "cell_type": "code",
   "execution_count": 19,
   "id": "a879987b-9dd7-441a-b0f2-ad65d2586946",
   "metadata": {},
   "outputs": [
    {
     "data": {
      "text/plain": [
       "['life', 'hot', 6.7, 24, 'cold', 53.1, 67, 2]"
      ]
     },
     "execution_count": 19,
     "metadata": {},
     "output_type": "execute_result"
    }
   ],
   "source": [
    "lenin"
   ]
  },
  {
   "cell_type": "code",
   "execution_count": 22,
   "id": "c9cf8b3b-2238-4265-8e5a-df64e5c925de",
   "metadata": {},
   "outputs": [
    {
     "data": {
      "text/plain": [
       "['life', 6.7, 24, 'cold', 53.1, 67, 2]"
      ]
     },
     "execution_count": 22,
     "metadata": {},
     "output_type": "execute_result"
    }
   ],
   "source": [
    "lenin.remove(\"hot\")\n",
    "lenin"
   ]
  },
  {
   "cell_type": "code",
   "execution_count": 23,
   "id": "faa2a34c-d293-456f-89c6-5a94cf5035b6",
   "metadata": {},
   "outputs": [
    {
     "data": {
      "text/plain": [
       "['life', 6.7, 24, 53.1, 67, 2]"
      ]
     },
     "execution_count": 23,
     "metadata": {},
     "output_type": "execute_result"
    }
   ],
   "source": [
    "lenin.remove(\"cold\")\n",
    "lenin"
   ]
  },
  {
   "cell_type": "code",
   "execution_count": 24,
   "id": "c4ce18f2-c755-4096-9389-d015f3ea0177",
   "metadata": {},
   "outputs": [
    {
     "data": {
      "text/plain": [
       "[6.7, 24, 53.1, 67, 2]"
      ]
     },
     "execution_count": 24,
     "metadata": {},
     "output_type": "execute_result"
    }
   ],
   "source": [
    "lenin.remove(\"life\")\n",
    "lenin"
   ]
  },
  {
   "cell_type": "code",
   "execution_count": 25,
   "id": "58735cbe-c921-499a-a183-bc7be3f1752b",
   "metadata": {},
   "outputs": [],
   "source": [
    "lenin.sort() # it gives assending order"
   ]
  },
  {
   "cell_type": "code",
   "execution_count": 26,
   "id": "dcacedcf-7eae-4783-be3e-08540552e50e",
   "metadata": {},
   "outputs": [
    {
     "data": {
      "text/plain": [
       "[2, 6.7, 24, 53.1, 67]"
      ]
     },
     "execution_count": 26,
     "metadata": {},
     "output_type": "execute_result"
    }
   ],
   "source": [
    "lenin"
   ]
  },
  {
   "cell_type": "code",
   "execution_count": 27,
   "id": "0254118f-70a8-4a45-b373-64de483b5609",
   "metadata": {},
   "outputs": [],
   "source": [
    "lenin.sort(reverse=True)  # it gives the dessending order.\n",
    "# Technically speaking sort gives assending order, we're making the reverse of assendingorder. \n",
    "# which is dessending order. "
   ]
  },
  {
   "cell_type": "code",
   "execution_count": 28,
   "id": "343e6db4-d7b5-46d7-9ca6-3298181d6d61",
   "metadata": {},
   "outputs": [
    {
     "data": {
      "text/plain": [
       "[67, 53.1, 24, 6.7, 2]"
      ]
     },
     "execution_count": 28,
     "metadata": {},
     "output_type": "execute_result"
    }
   ],
   "source": [
    "lenin"
   ]
  },
  {
   "cell_type": "code",
   "execution_count": 29,
   "id": "b4178ad1-e9cc-488b-ba52-d0cda809edfd",
   "metadata": {},
   "outputs": [
    {
     "data": {
      "text/plain": [
       "[]"
      ]
     },
     "execution_count": 29,
     "metadata": {},
     "output_type": "execute_result"
    }
   ],
   "source": [
    "lenin.clear()   # it clears everything and we got nothing left. \n",
    "lenin"
   ]
  },
  {
   "cell_type": "markdown",
   "id": "7cb6d279-0807-474d-8329-313bbd7833ee",
   "metadata": {},
   "source": [
    "## Functions"
   ]
  },
  {
   "cell_type": "code",
   "execution_count": 30,
   "id": "4457362d-03ba-47ac-9be3-4a55e6f09bbc",
   "metadata": {},
   "outputs": [
    {
     "data": {
      "text/plain": [
       "3"
      ]
     },
     "execution_count": 30,
     "metadata": {},
     "output_type": "execute_result"
    }
   ],
   "source": [
    "len(nazi)"
   ]
  },
  {
   "cell_type": "code",
   "execution_count": 31,
   "id": "e0a11d36-d7fe-4122-bba6-cc52effff016",
   "metadata": {},
   "outputs": [
    {
     "data": {
      "text/plain": [
       "list"
      ]
     },
     "execution_count": 31,
     "metadata": {},
     "output_type": "execute_result"
    }
   ],
   "source": [
    "type(nazi)"
   ]
  },
  {
   "cell_type": "code",
   "execution_count": 32,
   "id": "86fc80be-3bb1-46cf-9c52-ee92d7618e5d",
   "metadata": {},
   "outputs": [
    {
     "data": {
      "text/plain": [
       "tuple"
      ]
     },
     "execution_count": 32,
     "metadata": {},
     "output_type": "execute_result"
    }
   ],
   "source": [
    "more=(2,9,3,35)\n",
    "type(more)"
   ]
  },
  {
   "cell_type": "code",
   "execution_count": 33,
   "id": "447efb88-5940-4e8e-9b14-3a47280a1298",
   "metadata": {},
   "outputs": [
    {
     "data": {
      "text/plain": [
       "[2, 9, 3, 35]"
      ]
     },
     "execution_count": 33,
     "metadata": {},
     "output_type": "execute_result"
    }
   ],
   "source": [
    "less=list(more)\n",
    "less"
   ]
  },
  {
   "cell_type": "code",
   "execution_count": 34,
   "id": "bef33c3a-2ac6-4dcf-97b1-9bcb19933d9d",
   "metadata": {},
   "outputs": [
    {
     "data": {
      "text/plain": [
       "[2, 9, 3, 96]"
      ]
     },
     "execution_count": 34,
     "metadata": {},
     "output_type": "execute_result"
    }
   ],
   "source": [
    "less[3]=96\n",
    "less"
   ]
  },
  {
   "cell_type": "code",
   "execution_count": null,
   "id": "df1b6acd-1e7c-42d6-9f3e-e5a247e1b6c7",
   "metadata": {},
   "outputs": [],
   "source": []
  }
 ],
 "metadata": {
  "kernelspec": {
   "display_name": "Python [conda env:base] *",
   "language": "python",
   "name": "conda-base-py"
  },
  "language_info": {
   "codemirror_mode": {
    "name": "ipython",
    "version": 3
   },
   "file_extension": ".py",
   "mimetype": "text/x-python",
   "name": "python",
   "nbconvert_exporter": "python",
   "pygments_lexer": "ipython3",
   "version": "3.13.5"
  },
  "widgets": {
   "application/vnd.jupyter.widget-state+json": {
    "state": {},
    "version_major": 2,
    "version_minor": 0
   }
  }
 },
 "nbformat": 4,
 "nbformat_minor": 5
}
