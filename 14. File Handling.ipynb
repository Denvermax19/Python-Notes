{
 "cells": [
  {
   "cell_type": "code",
   "execution_count": 1,
   "id": "e0e85dd6-2557-4d77-b330-4b74c8e29d5a",
   "metadata": {},
   "outputs": [],
   "source": [
    "# open() for creating and opening the file\n",
    "\n",
    "# read()\n",
    "# readlines() for reading line by line\n",
    "\n",
    "# write()\n",
    "# writelines() for writing line by line\n",
    "\n",
    "# seek() for defined posistion\n",
    "# tell() for finding the position\n",
    "\n",
    "# close() for closing the file"
   ]
  },
  {
   "cell_type": "markdown",
   "id": "3f202d83-5aad-423b-96df-bf0fedfae3ae",
   "metadata": {},
   "source": [
    "### Mode\n",
    "1. w --> writing\n",
    "2. r --> reading\n",
    "3. a --> appending\n",
    "4. rb --> read in binary\n",
    "5. wb --> write in binary"
   ]
  },
  {
   "cell_type": "markdown",
   "id": "6296d0b4-11de-423e-ab6b-36dc1c27185c",
   "metadata": {},
   "source": [
    "## Text file"
   ]
  },
  {
   "cell_type": "code",
   "execution_count": 2,
   "id": "1293f471-85c8-451f-81ae-6f26d2821a7b",
   "metadata": {},
   "outputs": [],
   "source": [
    "file=open(file=\"myfile.txt\", mode=\"w\")"
   ]
  },
  {
   "cell_type": "code",
   "execution_count": 3,
   "id": "54413bd2-7fd9-4500-99ff-3e936c7cdb46",
   "metadata": {},
   "outputs": [],
   "source": [
    "file.writelines(\"1. People who quit\\n\")\n",
    "file.writelines(\"2. People who got fired\\n\")\n",
    "file.writelines(\"3. People who quit, but it's okay because the company didn't want them anyway\")\n",
    "file.close()"
   ]
  },
  {
   "cell_type": "code",
   "execution_count": 4,
   "id": "0d52b123-0148-411d-8e5c-4cf40ccf954d",
   "metadata": {},
   "outputs": [],
   "source": [
    "f4=open(file=\"myfile.txt\", mode=\"r\")  # we are reading the already created file\n",
    "s=f4.read()"
   ]
  },
  {
   "cell_type": "code",
   "execution_count": 6,
   "id": "e52ffdc1-8153-4e60-a5ea-fcdabae2e1b4",
   "metadata": {},
   "outputs": [
    {
     "data": {
      "text/plain": [
       "3"
      ]
     },
     "execution_count": 6,
     "metadata": {},
     "output_type": "execute_result"
    }
   ],
   "source": [
    "s.count(\"who\") # checking how many \"who\" words exists in the file"
   ]
  },
  {
   "cell_type": "code",
   "execution_count": 7,
   "id": "63fdad86-0868-4ded-817f-bf14df1e9e51",
   "metadata": {},
   "outputs": [
    {
     "data": {
      "text/plain": [
       "63"
      ]
     },
     "execution_count": 7,
     "metadata": {},
     "output_type": "execute_result"
    }
   ],
   "source": [
    "s.index(\"but\")  # it checks the position of \"but\""
   ]
  },
  {
   "cell_type": "markdown",
   "id": "de3258cd-7d88-4d54-9b3f-3e78889dc7ba",
   "metadata": {},
   "source": [
    "## JSON file"
   ]
  },
  {
   "cell_type": "code",
   "execution_count": 8,
   "id": "8cfae1a3-5e1a-461b-92ff-6671daf8b33f",
   "metadata": {},
   "outputs": [],
   "source": [
    "import json  # for creating JSON files we need to import json library"
   ]
  },
  {
   "cell_type": "code",
   "execution_count": 10,
   "id": "67ba31e8-b099-4c48-81cf-a1b367c1effe",
   "metadata": {},
   "outputs": [],
   "source": [
    "founders={\"names\":[\"anand\",\"sai\",\"kiran\"],\"age\":[23,24,24],\"role\":[\"ceo\",\"coo\",\"cfo\"]} # data\n",
    "\n",
    "mv=open(file=\"details.json\",mode=\"w\") \n",
    "json.dump(founders,mv) # we are specifying \"founders\" variable data must be stored as per \"mv\" variable is saying\n",
    "mv.close() "
   ]
  },
  {
   "cell_type": "markdown",
   "id": "69222d72-086a-4945-8d76-dee6659b7539",
   "metadata": {},
   "source": [
    "## CSV file"
   ]
  },
  {
   "cell_type": "code",
   "execution_count": 11,
   "id": "353eefc0-dc6b-4c23-9549-f3b730929251",
   "metadata": {},
   "outputs": [],
   "source": [
    "import csv"
   ]
  },
  {
   "cell_type": "code",
   "execution_count": 21,
   "id": "13b2f3d0-28db-4f1d-8656-330aaa8bd75f",
   "metadata": {},
   "outputs": [],
   "source": [
    "columns=[\"product\",\"sales\"]\n",
    "rows=[{\"product\":\"ball\",\"sales\":200},\n",
    "{\"product\":\"bat\",\"sales\":300}]\n",
    "sports=open(file=\"cricket.csv\",mode=\"w\",newline=\"\")  # newline=\"\"  sets data without any blanks\n",
    "core=csv.DictWriter(sports,fieldnames=columns)\n",
    "core.writeheader()\n",
    "core.writerows(rows)\n",
    "sports.close()"
   ]
  },
  {
   "cell_type": "markdown",
   "id": "1f2c9c7d-2d3c-4a18-be08-c1552a0afbde",
   "metadata": {},
   "source": [
    "## Pickle\n",
    "For preserving the data for future purposes."
   ]
  },
  {
   "cell_type": "code",
   "execution_count": 1,
   "id": "c53ff3cc-9730-4bbb-9f72-7028daed4861",
   "metadata": {},
   "outputs": [],
   "source": [
    "df={\"Name\":[\"anand\",\"kiran\",\"sai\"], \"Age\":[23,25,24]}"
   ]
  },
  {
   "cell_type": "code",
   "execution_count": 2,
   "id": "6513f8ff-aa54-4227-a463-fa46adc6f6ad",
   "metadata": {},
   "outputs": [],
   "source": [
    "import pickle\n",
    "pk=open(file=\"our age.pkl\", mode=\"wb\") # wb --> write in binary for preserving the data\n",
    "pickle.dump(df, pk)\n",
    "pk.close()\n",
    "# df --> is what we needs to store\n",
    "# pk --> is the place we decided to store"
   ]
  },
  {
   "cell_type": "markdown",
   "id": "3be6fd59-87a6-4b4e-a5f4-1f6666578992",
   "metadata": {},
   "source": [
    "### Pickle has 2 file extensions, \n",
    "1--> .pkl , 2--> .sav"
   ]
  },
  {
   "cell_type": "code",
   "execution_count": 3,
   "id": "23bfe3d5-b3d3-483d-9535-a03299884524",
   "metadata": {},
   "outputs": [],
   "source": [
    "sv=open(file=\"our age.sav\", mode=\"wb\")\n",
    "pickle.dump(df,sv)\n",
    "sv.close()"
   ]
  },
  {
   "cell_type": "markdown",
   "id": "3e6793f3-9a3d-4f46-b4e5-980a3b7b6e99",
   "metadata": {},
   "source": [
    "## PDF file"
   ]
  },
  {
   "cell_type": "code",
   "execution_count": 1,
   "id": "23f08a3a-ac28-44a8-92ac-17251753179c",
   "metadata": {},
   "outputs": [],
   "source": [
    "python_pdf=open(file=\"python.pdf\", mode=\"w\")"
   ]
  },
  {
   "cell_type": "code",
   "execution_count": 5,
   "id": "41717a40-125f-43e8-af1a-f11fccd44403",
   "metadata": {},
   "outputs": [],
   "source": [
    "python_pdf.write(\"\"\"Attention Is All You Need introduced the Transformer—using self-attention instead of recurrence.\n",
    "This made models parallelizable, scalable, and effective at handling long-range dependencies.\n",
    "It enabled massive pretraining and fine-tuning workflows, leading to scalable large language models.\"\"\")\n",
    "\n",
    "python_pdf.close()"
   ]
  },
  {
   "cell_type": "markdown",
   "id": "814cb749-39a9-499b-bfed-41ad6d2687a5",
   "metadata": {},
   "source": [
    "## Pandas"
   ]
  },
  {
   "cell_type": "code",
   "execution_count": 4,
   "id": "fdb678ae-b15d-44d6-a49e-7da58eb29ba2",
   "metadata": {},
   "outputs": [],
   "source": [
    "names=[\"kgf2\",\"bhahubali2\",\"pushpa2\"]\n",
    "directors=[\"neil maya\",\"jakkanna\",\"sukku\"]\n",
    "money=[100,200,150]\n",
    "movies={\"Name\":names,\"Director\":directors,\"Collections\":money}"
   ]
  },
  {
   "cell_type": "code",
   "execution_count": 5,
   "id": "feb089fc-ec58-4c65-b40f-3de0ab1aae79",
   "metadata": {},
   "outputs": [
    {
     "data": {
      "text/html": [
       "<div>\n",
       "<style scoped>\n",
       "    .dataframe tbody tr th:only-of-type {\n",
       "        vertical-align: middle;\n",
       "    }\n",
       "\n",
       "    .dataframe tbody tr th {\n",
       "        vertical-align: top;\n",
       "    }\n",
       "\n",
       "    .dataframe thead th {\n",
       "        text-align: right;\n",
       "    }\n",
       "</style>\n",
       "<table border=\"1\" class=\"dataframe\">\n",
       "  <thead>\n",
       "    <tr style=\"text-align: right;\">\n",
       "      <th></th>\n",
       "      <th>Name</th>\n",
       "      <th>Director</th>\n",
       "      <th>Collections</th>\n",
       "    </tr>\n",
       "  </thead>\n",
       "  <tbody>\n",
       "    <tr>\n",
       "      <th>0</th>\n",
       "      <td>kgf2</td>\n",
       "      <td>neil maya</td>\n",
       "      <td>100</td>\n",
       "    </tr>\n",
       "    <tr>\n",
       "      <th>1</th>\n",
       "      <td>bhahubali2</td>\n",
       "      <td>jakkanna</td>\n",
       "      <td>200</td>\n",
       "    </tr>\n",
       "    <tr>\n",
       "      <th>2</th>\n",
       "      <td>pushpa2</td>\n",
       "      <td>sukku</td>\n",
       "      <td>150</td>\n",
       "    </tr>\n",
       "  </tbody>\n",
       "</table>\n",
       "</div>"
      ],
      "text/plain": [
       "         Name   Director  Collections\n",
       "0        kgf2  neil maya          100\n",
       "1  bhahubali2   jakkanna          200\n",
       "2     pushpa2      sukku          150"
      ]
     },
     "execution_count": 5,
     "metadata": {},
     "output_type": "execute_result"
    }
   ],
   "source": [
    "import pandas as pd\n",
    "df=pd.DataFrame(movies)\n",
    "df"
   ]
  },
  {
   "cell_type": "code",
   "execution_count": null,
   "id": "7a461d1d-7ff5-4a01-a454-1abb44a52e31",
   "metadata": {},
   "outputs": [],
   "source": [
    "## Using PANDAS we can easily convert dataset into any fomate easily"
   ]
  },
  {
   "cell_type": "code",
   "execution_count": 6,
   "id": "409e9f69-64ec-48ba-98bd-3d992f1d1be9",
   "metadata": {},
   "outputs": [],
   "source": [
    "df.to_csv(\"movies.csv\")"
   ]
  },
  {
   "cell_type": "code",
   "execution_count": 7,
   "id": "90f6eda3-312a-4dbe-9c99-3d180b75000a",
   "metadata": {},
   "outputs": [],
   "source": [
    "df.to_excel(\"moviesX.xlsx\")"
   ]
  },
  {
   "cell_type": "code",
   "execution_count": 8,
   "id": "4771b5cb-2c97-49d0-a774-4b88425ed334",
   "metadata": {},
   "outputs": [],
   "source": [
    "df.to_html(\"movies.html\")"
   ]
  },
  {
   "cell_type": "code",
   "execution_count": 9,
   "id": "e4b31615-ae34-4bab-b031-09359e2cb59f",
   "metadata": {},
   "outputs": [],
   "source": [
    "df.to_json(\"movies.json\")"
   ]
  },
  {
   "cell_type": "markdown",
   "id": "b260544d-7f5d-4035-bf98-fb1639adc441",
   "metadata": {},
   "source": [
    "### Reading CSV file with the help of \"for\" loop"
   ]
  },
  {
   "cell_type": "code",
   "execution_count": 10,
   "id": "1fb3ec70-6000-4a66-8df9-26bb0b0c9502",
   "metadata": {},
   "outputs": [
    {
     "name": "stdout",
     "output_type": "stream",
     "text": [
      "['', 'Name', 'Director', 'Collections']\n",
      "['0', 'kgf2', 'neil maya', '100']\n",
      "['1', 'bhahubali2', 'jakkanna', '200']\n",
      "['2', 'pushpa2', 'sukku', '150']\n"
     ]
    }
   ],
   "source": [
    "import csv\n",
    "r1=open(file=\"movies.csv\", mode=\"r\")\n",
    "reader=csv.reader(r1)\n",
    "for i in reader:\n",
    "    print(i)"
   ]
  },
  {
   "cell_type": "code",
   "execution_count": null,
   "id": "8dae1f3a-de02-4353-8186-66bae172ec20",
   "metadata": {},
   "outputs": [],
   "source": []
  }
 ],
 "metadata": {
  "kernelspec": {
   "display_name": "Python [conda env:base] *",
   "language": "python",
   "name": "conda-base-py"
  },
  "language_info": {
   "codemirror_mode": {
    "name": "ipython",
    "version": 3
   },
   "file_extension": ".py",
   "mimetype": "text/x-python",
   "name": "python",
   "nbconvert_exporter": "python",
   "pygments_lexer": "ipython3",
   "version": "3.13.5"
  },
  "widgets": {
   "application/vnd.jupyter.widget-state+json": {
    "state": {},
    "version_major": 2,
    "version_minor": 0
   }
  }
 },
 "nbformat": 4,
 "nbformat_minor": 5
}
